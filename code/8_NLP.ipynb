{
 "cells": [
  {
   "cell_type": "code",
   "execution_count": 31,
   "metadata": {},
   "outputs": [],
   "source": [
    "import nltk\n",
    "from nltk.stem import WordNetLemmatizer\n",
    "lemmatizer = WordNetLemmatizer()\n",
    "from nltk.tokenize import RegexpTokenizer\n",
    "import regex as re\n",
    "import pandas as pd\n",
    "import numpy as np\n",
    "from sklearn.model_selection import train_test_split,GridSearchCV\n",
    "from nltk.stem.snowball import SnowballStemmer\n",
    "from sklearn.feature_extraction.text import ENGLISH_STOP_WORDS\n",
    "from sklearn.feature_extraction.text import CountVectorizer, TfidfVectorizer\n",
    "from sklearn.naive_bayes import MultinomialNB\n",
    "from sklearn.metrics import confusion_matrix\n",
    "from sklearn.pipeline import Pipeline\n",
    "pd.set_option('display.max_columns', 100)\n",
    "pd.set_option('display.max_rows', 500)"
   ]
  },
  {
   "cell_type": "code",
   "execution_count": 32,
   "metadata": {},
   "outputs": [],
   "source": [
    "new_df= pd.read_csv(\"../data/new_df\")"
   ]
  },
  {
   "cell_type": "code",
   "execution_count": 33,
   "metadata": {},
   "outputs": [],
   "source": [
    "sorted_sum = pd.read_csv(\"../data/sorted_sum_data.csv\")"
   ]
  },
  {
   "cell_type": "code",
   "execution_count": 34,
   "metadata": {},
   "outputs": [
    {
     "data": {
      "text/html": [
       "<div>\n",
       "<style scoped>\n",
       "    .dataframe tbody tr th:only-of-type {\n",
       "        vertical-align: middle;\n",
       "    }\n",
       "\n",
       "    .dataframe tbody tr th {\n",
       "        vertical-align: top;\n",
       "    }\n",
       "\n",
       "    .dataframe thead th {\n",
       "        text-align: right;\n",
       "    }\n",
       "</style>\n",
       "<table border=\"1\" class=\"dataframe\">\n",
       "  <thead>\n",
       "    <tr style=\"text-align: right;\">\n",
       "      <th></th>\n",
       "      <th>Unnamed: 0</th>\n",
       "      <th>patient_id</th>\n",
       "      <th>age</th>\n",
       "      <th>num_visits</th>\n",
       "      <th>avg_time_between_visits</th>\n",
       "      <th>avg_a1c</th>\n",
       "      <th>avg_control_level</th>\n",
       "      <th>num_obs</th>\n",
       "    </tr>\n",
       "  </thead>\n",
       "  <tbody>\n",
       "    <tr>\n",
       "      <th>0</th>\n",
       "      <td>0</td>\n",
       "      <td>72</td>\n",
       "      <td>56</td>\n",
       "      <td>10</td>\n",
       "      <td>99.777778</td>\n",
       "      <td>7.833333</td>\n",
       "      <td>1</td>\n",
       "      <td>6</td>\n",
       "    </tr>\n",
       "    <tr>\n",
       "      <th>1</th>\n",
       "      <td>1</td>\n",
       "      <td>254</td>\n",
       "      <td>64</td>\n",
       "      <td>54</td>\n",
       "      <td>20.584906</td>\n",
       "      <td>8.842857</td>\n",
       "      <td>0</td>\n",
       "      <td>7</td>\n",
       "    </tr>\n",
       "    <tr>\n",
       "      <th>2</th>\n",
       "      <td>2</td>\n",
       "      <td>255</td>\n",
       "      <td>64</td>\n",
       "      <td>8</td>\n",
       "      <td>146.857143</td>\n",
       "      <td>10.233333</td>\n",
       "      <td>0</td>\n",
       "      <td>2</td>\n",
       "    </tr>\n",
       "    <tr>\n",
       "      <th>3</th>\n",
       "      <td>3</td>\n",
       "      <td>304</td>\n",
       "      <td>70</td>\n",
       "      <td>5</td>\n",
       "      <td>54.500000</td>\n",
       "      <td>7.000000</td>\n",
       "      <td>1</td>\n",
       "      <td>1</td>\n",
       "    </tr>\n",
       "    <tr>\n",
       "      <th>4</th>\n",
       "      <td>4</td>\n",
       "      <td>384</td>\n",
       "      <td>66</td>\n",
       "      <td>9</td>\n",
       "      <td>105.250000</td>\n",
       "      <td>8.500000</td>\n",
       "      <td>0</td>\n",
       "      <td>4</td>\n",
       "    </tr>\n",
       "  </tbody>\n",
       "</table>\n",
       "</div>"
      ],
      "text/plain": [
       "   Unnamed: 0  patient_id  age  num_visits  avg_time_between_visits  \\\n",
       "0           0          72   56          10                99.777778   \n",
       "1           1         254   64          54                20.584906   \n",
       "2           2         255   64           8               146.857143   \n",
       "3           3         304   70           5                54.500000   \n",
       "4           4         384   66           9               105.250000   \n",
       "\n",
       "     avg_a1c  avg_control_level  num_obs  \n",
       "0   7.833333                  1        6  \n",
       "1   8.842857                  0        7  \n",
       "2  10.233333                  0        2  \n",
       "3   7.000000                  1        1  \n",
       "4   8.500000                  0        4  "
      ]
     },
     "execution_count": 34,
     "metadata": {},
     "output_type": "execute_result"
    }
   ],
   "source": [
    "new_df.head()"
   ]
  },
  {
   "cell_type": "code",
   "execution_count": 35,
   "metadata": {},
   "outputs": [],
   "source": [
    "sorted_sum.dropna(inplace=True)"
   ]
  },
  {
   "cell_type": "code",
   "execution_count": 36,
   "metadata": {},
   "outputs": [
    {
     "data": {
      "text/plain": [
       "Unnamed: 0                 0\n",
       "patient_id                 0\n",
       "age                        0\n",
       "visit_date                 0\n",
       "summary                    0\n",
       "num_visits                 0\n",
       "time_between_visits        0\n",
       "avg_time_between_visits    0\n",
       "avg_a1c                    0\n",
       "dtype: int64"
      ]
     },
     "execution_count": 36,
     "metadata": {},
     "output_type": "execute_result"
    }
   ],
   "source": [
    "sorted_sum.isnull().sum()"
   ]
  },
  {
   "cell_type": "code",
   "execution_count": 37,
   "metadata": {},
   "outputs": [
    {
     "data": {
      "text/plain": [
       "0    666\n",
       "1    433\n",
       "Name: avg_control_level, dtype: int64"
      ]
     },
     "execution_count": 37,
     "metadata": {},
     "output_type": "execute_result"
    }
   ],
   "source": [
    "new_df[\"avg_control_level\"].value_counts()"
   ]
  },
  {
   "cell_type": "markdown",
   "metadata": {},
   "source": [
    "Add all the summary text together for each patient "
   ]
  },
  {
   "cell_type": "code",
   "execution_count": 38,
   "metadata": {},
   "outputs": [
    {
     "name": "stdout",
     "output_type": "stream",
     "text": [
      "      patient_id                                            summary\n",
      "0             72  followup diabetes, med refillf/u lab results, ...\n",
      "1            254  Acute viral illnessf/uRm13 Follow upRm11 Follo...\n",
      "2            255  DM uncontrolled, HTN uncontrolled, access issu...\n",
      "3            304  HTN, HLD, DM f/u and refill medLetter for medi...\n",
      "4            384  64F HTN, DM2, R breast caDM, HLD, HTN f/uDM, h...\n",
      "...          ...                                                ...\n",
      "1061      243204  Rm 12- NWPT- Establish care, hx HTN, hiccup, s...\n",
      "1062      243240  APE, DM, Depressionelevated ASCVD- started hig...\n",
      "1063      243548  establish care, polysubstance abuse, psychiatr...\n",
      "1064      243642  right ear fullness and hearing loss, new HTN, ...\n",
      "1065      243644  establish care, new diabetic on lantus and met...\n",
      "\n",
      "[1066 rows x 2 columns]\n"
     ]
    }
   ],
   "source": [
    "df_grouped = sorted_sum.groupby(['patient_id'],as_index=False)['summary'].sum()\n",
    "print(df_grouped)"
   ]
  },
  {
   "cell_type": "markdown",
   "metadata": {},
   "source": [
    "Add a column to put all this text in for each patient "
   ]
  },
  {
   "cell_type": "code",
   "execution_count": 39,
   "metadata": {},
   "outputs": [
    {
     "name": "stderr",
     "output_type": "stream",
     "text": [
      "/opt/anaconda3/lib/python3.7/site-packages/ipykernel_launcher.py:8: SettingWithCopyWarning: \n",
      "A value is trying to be set on a copy of a slice from a DataFrame\n",
      "\n",
      "See the caveats in the documentation: http://pandas.pydata.org/pandas-docs/stable/user_guide/indexing.html#returning-a-view-versus-a-copy\n",
      "  \n"
     ]
    }
   ],
   "source": [
    "new_df[\"total_summary\"]=\"\"\n",
    "\n",
    "for x in range(new_df.shape[0]):\n",
    "    for i in range(len(df_grouped)):\n",
    "        try:\n",
    "            if new_df[\"patient_id\"][x]== df_grouped[\"patient_id\"][i]:\n",
    "                #index of where patient id is that value \n",
    "                new_df[\"total_summary\"][x]= df_grouped[\"summary\"][i]\n",
    "        except:\n",
    "            continue "
   ]
  },
  {
   "cell_type": "code",
   "execution_count": 40,
   "metadata": {},
   "outputs": [],
   "source": [
    "new_df.drop(columns=[\"Unnamed: 0\"],inplace=True)"
   ]
  },
  {
   "cell_type": "code",
   "execution_count": 41,
   "metadata": {},
   "outputs": [
    {
     "data": {
      "text/html": [
       "<div>\n",
       "<style scoped>\n",
       "    .dataframe tbody tr th:only-of-type {\n",
       "        vertical-align: middle;\n",
       "    }\n",
       "\n",
       "    .dataframe tbody tr th {\n",
       "        vertical-align: top;\n",
       "    }\n",
       "\n",
       "    .dataframe thead th {\n",
       "        text-align: right;\n",
       "    }\n",
       "</style>\n",
       "<table border=\"1\" class=\"dataframe\">\n",
       "  <thead>\n",
       "    <tr style=\"text-align: right;\">\n",
       "      <th></th>\n",
       "      <th>patient_id</th>\n",
       "      <th>age</th>\n",
       "      <th>num_visits</th>\n",
       "      <th>avg_time_between_visits</th>\n",
       "      <th>avg_a1c</th>\n",
       "      <th>avg_control_level</th>\n",
       "      <th>num_obs</th>\n",
       "      <th>total_summary</th>\n",
       "    </tr>\n",
       "  </thead>\n",
       "  <tbody>\n",
       "    <tr>\n",
       "      <th>0</th>\n",
       "      <td>72</td>\n",
       "      <td>56</td>\n",
       "      <td>10</td>\n",
       "      <td>99.777778</td>\n",
       "      <td>7.833333</td>\n",
       "      <td>1</td>\n",
       "      <td>6</td>\n",
       "      <td>followup diabetes, med refillf/u lab results, ...</td>\n",
       "    </tr>\n",
       "    <tr>\n",
       "      <th>1</th>\n",
       "      <td>254</td>\n",
       "      <td>64</td>\n",
       "      <td>54</td>\n",
       "      <td>20.584906</td>\n",
       "      <td>8.842857</td>\n",
       "      <td>0</td>\n",
       "      <td>7</td>\n",
       "      <td>Acute viral illnessf/uRm13 Follow upRm11 Follo...</td>\n",
       "    </tr>\n",
       "    <tr>\n",
       "      <th>2</th>\n",
       "      <td>255</td>\n",
       "      <td>64</td>\n",
       "      <td>8</td>\n",
       "      <td>146.857143</td>\n",
       "      <td>10.233333</td>\n",
       "      <td>0</td>\n",
       "      <td>2</td>\n",
       "      <td>DM uncontrolled, HTN uncontrolled, access issu...</td>\n",
       "    </tr>\n",
       "    <tr>\n",
       "      <th>3</th>\n",
       "      <td>304</td>\n",
       "      <td>70</td>\n",
       "      <td>5</td>\n",
       "      <td>54.500000</td>\n",
       "      <td>7.000000</td>\n",
       "      <td>1</td>\n",
       "      <td>1</td>\n",
       "      <td>HTN, HLD, DM f/u and refill medLetter for medi...</td>\n",
       "    </tr>\n",
       "    <tr>\n",
       "      <th>4</th>\n",
       "      <td>384</td>\n",
       "      <td>66</td>\n",
       "      <td>9</td>\n",
       "      <td>105.250000</td>\n",
       "      <td>8.500000</td>\n",
       "      <td>0</td>\n",
       "      <td>4</td>\n",
       "      <td>64F HTN, DM2, R breast caDM, HLD, HTN f/uDM, h...</td>\n",
       "    </tr>\n",
       "  </tbody>\n",
       "</table>\n",
       "</div>"
      ],
      "text/plain": [
       "   patient_id  age  num_visits  avg_time_between_visits    avg_a1c  \\\n",
       "0          72   56          10                99.777778   7.833333   \n",
       "1         254   64          54                20.584906   8.842857   \n",
       "2         255   64           8               146.857143  10.233333   \n",
       "3         304   70           5                54.500000   7.000000   \n",
       "4         384   66           9               105.250000   8.500000   \n",
       "\n",
       "   avg_control_level  num_obs  \\\n",
       "0                  1        6   \n",
       "1                  0        7   \n",
       "2                  0        2   \n",
       "3                  1        1   \n",
       "4                  0        4   \n",
       "\n",
       "                                       total_summary  \n",
       "0  followup diabetes, med refillf/u lab results, ...  \n",
       "1  Acute viral illnessf/uRm13 Follow upRm11 Follo...  \n",
       "2  DM uncontrolled, HTN uncontrolled, access issu...  \n",
       "3  HTN, HLD, DM f/u and refill medLetter for medi...  \n",
       "4  64F HTN, DM2, R breast caDM, HLD, HTN f/uDM, h...  "
      ]
     },
     "execution_count": 41,
     "metadata": {},
     "output_type": "execute_result"
    }
   ],
   "source": [
    "new_df.head()"
   ]
  },
  {
   "cell_type": "markdown",
   "metadata": {},
   "source": [
    "Add to the set of stopwords, including numbers  "
   ]
  },
  {
   "cell_type": "code",
   "execution_count": 68,
   "metadata": {},
   "outputs": [],
   "source": [
    "cvec_combined = CountVectorizer(stop_words = ENGLISH_STOP_WORDS.union({\n",
    "    'and',\n",
    "    'for',\n",
    "    'to',\n",
    "    \"12\",\n",
    "    \"13\",\n",
    "    \"10\"\n",
    "    \n",
    "}))"
   ]
  },
  {
   "cell_type": "markdown",
   "metadata": {},
   "source": [
    "Stem the words, although this might be tedious given the type of text we have in the summary for each patient"
   ]
  },
  {
   "cell_type": "code",
   "execution_count": 69,
   "metadata": {},
   "outputs": [],
   "source": [
    "stemmer = SnowballStemmer('english')"
   ]
  },
  {
   "cell_type": "code",
   "execution_count": 70,
   "metadata": {},
   "outputs": [],
   "source": [
    "list_2d = [row.split() for row in new_df[\"total_summary\"]]"
   ]
  },
  {
   "cell_type": "code",
   "execution_count": 71,
   "metadata": {},
   "outputs": [
    {
     "data": {
      "text/plain": [
       "[['followup',\n",
       "  'diabetes,',\n",
       "  'med',\n",
       "  'refillf/u',\n",
       "  'lab',\n",
       "  'results,',\n",
       "  'dm2,',\n",
       "  'hlddm',\n",
       "  'and',\n",
       "  'dyslipidemia',\n",
       "  'follow-upuncontrol',\n",
       "  'dmdm',\n",
       "  '-',\n",
       "  'hypoglycemia-',\n",
       "  'dec.',\n",
       "  'glyburidepoor',\n",
       "  'control',\n",
       "  'dm,',\n",
       "  'osteoarthr',\n",
       "  'right',\n",
       "  'thumb',\n",
       "  'pipdiabet',\n",
       "  'follow',\n",
       "  'upf/u',\n",
       "  'dm2,',\n",
       "  'hlddm',\n",
       "  '(a1c',\n",
       "  '7.1%),',\n",
       "  'need',\n",
       "  'ppsv23/pcv13',\n",
       "  'vaccin'],\n",
       " ['acut',\n",
       "  'viral',\n",
       "  'illnessf/urm13',\n",
       "  'follow',\n",
       "  'uprm11',\n",
       "  'follow',\n",
       "  'upuncontrol',\n",
       "  'dm',\n",
       "  ',',\n",
       "  'utidermatitismed',\n",
       "  'reconciliationrm',\n",
       "  '13-',\n",
       "  'low',\n",
       "  'back',\n",
       "  'pn,',\n",
       "  'urinari',\n",
       "  'urgency,',\n",
       "  'burning,',\n",
       "  'vagin',\n",
       "  'dischargevictoza',\n",
       "  'teachingmed',\n",
       "  'reconciliationabd',\n",
       "  'pain,',\n",
       "  'vomitingdmdmcellulitis,',\n",
       "  'dermatitisf/uintertrigouri,',\n",
       "  'skin',\n",
       "  'rashsuperfici',\n",
       "  'phlebitis,',\n",
       "  'hypertensiondm,',\n",
       "  'atyp',\n",
       "  'cp',\n",
       "  'episode-',\n",
       "  'history,',\n",
       "  'leg',\n",
       "  'edemadm,',\n",
       "  'le',\n",
       "  'edemaheadach',\n",
       "  'x',\n",
       "  '3-4',\n",
       "  'days.',\n",
       "  'see',\n",
       "  'notehfu',\n",
       "  'subdural,',\n",
       "  'dm',\n",
       "  '-',\n",
       "  'restart',\n",
       "  'po',\n",
       "  'medss/p',\n",
       "  'seizur',\n",
       "  '&',\n",
       "  'subdural,',\n",
       "  'dm-uncontrol',\n",
       "  'w',\n",
       "  'insulin',\n",
       "  '&',\n",
       "  'jardiancedm',\n",
       "  'a1c',\n",
       "  '11.1%dm',\n",
       "  'f/u,',\n",
       "  'pt',\n",
       "  'sent',\n",
       "  'to',\n",
       "  'er-',\n",
       "  'cbg',\n",
       "  'rose',\n",
       "  'to',\n",
       "  '590',\n",
       "  'despit',\n",
       "  'humaolg',\n",
       "  '10uf/u',\n",
       "  'dm,',\n",
       "  'rx',\n",
       "  'refil',\n",
       "  '-',\n",
       "  'non-billabledm,',\n",
       "  'resum',\n",
       "  'xareltodm',\n",
       "  'follow',\n",
       "  'upcellul',\n",
       "  'of',\n",
       "  'face,',\n",
       "  'r',\n",
       "  'sidef/u',\n",
       "  'for',\n",
       "  'facial',\n",
       "  'cellulitis,',\n",
       "  'new',\n",
       "  'rash',\n",
       "  'on',\n",
       "  'upper',\n",
       "  'extremitiesdm',\n",
       "  'follow',\n",
       "  'upblood',\n",
       "  'pressur',\n",
       "  'checkfu',\n",
       "  'dm',\n",
       "  'and',\n",
       "  'htnchest',\n",
       "  'pain,',\n",
       "  's/p',\n",
       "  'fall,',\n",
       "  'sent',\n",
       "  'to',\n",
       "  'edf/u',\n",
       "  'dmdm',\n",
       "  'f/u,',\n",
       "  'smoking,',\n",
       "  'htndm2,',\n",
       "  'memori',\n",
       "  'problemsofc',\n",
       "  'visit:',\n",
       "  'memori',\n",
       "  'impairment,',\n",
       "  'dmiddm',\n",
       "  '&',\n",
       "  'htn',\n",
       "  'f/uiddm,',\n",
       "  'hypotension,',\n",
       "  'worsen',\n",
       "  'depression,',\n",
       "  'bh,',\n",
       "  'social',\n",
       "  'workt2dm,',\n",
       "  'neck',\n",
       "  'goiter,',\n",
       "  'uti,',\n",
       "  'screeningelev',\n",
       "  'creatinemicroscop',\n",
       "  'hematuria,',\n",
       "  'utigyn',\n",
       "  'exam',\n",
       "  'rm',\n",
       "  '#',\n",
       "  '12-',\n",
       "  'papaki',\n",
       "  'vs',\n",
       "  'ckd,',\n",
       "  'hematuria,',\n",
       "  'dm',\n",
       "  'f/u,hematuria',\n",
       "  'with',\n",
       "  'wbcs',\n",
       "  'also',\n",
       "  ',',\n",
       "  'aki',\n",
       "  'ct',\n",
       "  '?',\n",
       "  'urolog',\n",
       "  'obstruct',\n",
       "  'etcaki',\n",
       "  'and',\n",
       "  'bladder',\n",
       "  'lesion-',\n",
       "  'urolog',\n",
       "  'referral,',\n",
       "  'reduc',\n",
       "  'metforminne',\n",
       "  'home',\n",
       "  'health',\n",
       "  'aide,',\n",
       "  'ckd,',\n",
       "  'dmdiscuss',\n",
       "  'bladder',\n",
       "  'lesion,',\n",
       "  'fail',\n",
       "  'to',\n",
       "  'bring',\n",
       "  'cbg',\n",
       "  'logdm',\n",
       "  'f/u',\n",
       "  '-',\n",
       "  'a1c,',\n",
       "  'bmp,',\n",
       "  'lipids,',\n",
       "  'umicroalburethr',\n",
       "  'diverticulum,',\n",
       "  't2dmhfu',\n",
       "  'urolog',\n",
       "  'sxdm',\n",
       "  'ii',\n",
       "  'well',\n",
       "  'controlled,',\n",
       "  'rtc',\n",
       "  '4',\n",
       "  'week',\n",
       "  'with',\n",
       "  'pink',\n",
       "  'team'],\n",
       " ['dm',\n",
       "  'uncontrolled,',\n",
       "  'htn',\n",
       "  'uncontrolled,',\n",
       "  'access',\n",
       "  'issuesreestablish',\n",
       "  'care,',\n",
       "  'vision',\n",
       "  'change,',\n",
       "  'dmfu',\n",
       "  'labs,',\n",
       "  'dm,',\n",
       "  'start',\n",
       "  'trulicity,',\n",
       "  'cbg',\n",
       "  'logs,',\n",
       "  '1wk',\n",
       "  'fuuncontrol',\n",
       "  'hypertension,',\n",
       "  'to',\n",
       "  'nhedf/u',\n",
       "  'htn,',\n",
       "  'dmdm,',\n",
       "  'htn,',\n",
       "  'stress',\n",
       "  'test',\n",
       "  'sent,',\n",
       "  'hfu.htn,',\n",
       "  'hypercalcemia'],\n",
       " ['htn,',\n",
       "  'hld,',\n",
       "  'dm',\n",
       "  'f/u',\n",
       "  'and',\n",
       "  'refil',\n",
       "  'medlett',\n",
       "  'for',\n",
       "  'medic',\n",
       "  'necess',\n",
       "  'for',\n",
       "  'cpapappend',\n",
       "  'for',\n",
       "  'billingoa,',\n",
       "  'bariatr',\n",
       "  'surgery,',\n",
       "  'dm'],\n",
       " ['64f',\n",
       "  'htn,',\n",
       "  'dm2,',\n",
       "  'r',\n",
       "  'breast',\n",
       "  'cadm,',\n",
       "  'hld,',\n",
       "  'htn',\n",
       "  'f/udm,',\n",
       "  'hypertensiondm,',\n",
       "  'htnaki,',\n",
       "  'elev',\n",
       "  'protein,',\n",
       "  'on',\n",
       "  'go',\n",
       "  'work',\n",
       "  'up',\n",
       "  'for',\n",
       "  'mmaki,',\n",
       "  'mm',\n",
       "  'workup,dm2,',\n",
       "  'htnleft',\n",
       "  'side',\n",
       "  'back',\n",
       "  'paint2dm-januvia',\n",
       "  'vs',\n",
       "  'metformin-f/u',\n",
       "  'creat',\n",
       "  '(p),',\n",
       "  'other',\n",
       "  'labs,colon',\n",
       "  'ca',\n",
       "  'scr'],\n",
       " ['endo',\n",
       "  'diabet',\n",
       "  'fuhfu,',\n",
       "  'blepharitis,',\n",
       "  'scalp',\n",
       "  'cellulitisendo',\n",
       "  'diabet',\n",
       "  'fucopd',\n",
       "  'exacerbation,',\n",
       "  'bronchitis,',\n",
       "  'rle',\n",
       "  'abscess,',\n",
       "  'poor',\n",
       "  'control',\n",
       "  'dmf/u',\n",
       "  'bronchitis,',\n",
       "  'dm,',\n",
       "  'leg',\n",
       "  'abscessdm',\n",
       "  '-',\n",
       "  'uncontrolled,',\n",
       "  'vagin',\n",
       "  'itchingfu',\n",
       "  'dm1cellulitis,',\n",
       "  't1dm,',\n",
       "  'fungal',\n",
       "  'dermatitis,',\n",
       "  'lung',\n",
       "  'nodul',\n",
       "  'ct',\n",
       "  'f/upcellulitis,',\n",
       "  't1dm,',\n",
       "  'smoker,',\n",
       "  'fungal',\n",
       "  'dermatitisdm/htn',\n",
       "  'f/u,',\n",
       "  'counselling,',\n",
       "  'incr',\n",
       "  'tresiba,',\n",
       "  'rtc',\n",
       "  '2',\n",
       "  'weeksdm',\n",
       "  'f/u,',\n",
       "  'endo',\n",
       "  'apt',\n",
       "  '9/14,',\n",
       "  'incr',\n",
       "  'tresiba,',\n",
       "  'rtc',\n",
       "  '1',\n",
       "  'monthendo',\n",
       "  'diabet',\n",
       "  'fufu',\n",
       "  '-',\n",
       "  'iddm',\n",
       "  '-',\n",
       "  'insulin',\n",
       "  'managementf/u',\n",
       "  'type',\n",
       "  '1',\n",
       "  'dm',\n",
       "  'for',\n",
       "  'glycem',\n",
       "  'controlf/u',\n",
       "  't1dmfu',\n",
       "  'dm,',\n",
       "  'uncontrolledendo',\n",
       "  'diabet',\n",
       "  'fuelev',\n",
       "  'potassium',\n",
       "  'on',\n",
       "  'acei',\n",
       "  'with',\n",
       "  'dm',\n",
       "  'not',\n",
       "  'at',\n",
       "  'goalt2dm,',\n",
       "  'hyperkalemia,',\n",
       "  'colonoscopyr',\n",
       "  'axillari',\n",
       "  'abscess,',\n",
       "  'poor',\n",
       "  'control',\n",
       "  'dmr',\n",
       "  'axillari',\n",
       "  'abscess,',\n",
       "  'poor',\n",
       "  'control',\n",
       "  'dmaxillari',\n",
       "  'abscess.',\n",
       "  'f/u',\n",
       "  '1',\n",
       "  'wkf/u',\n",
       "  'right',\n",
       "  'axillari',\n",
       "  'abscess,',\n",
       "  't1dmf/u',\n",
       "  'axillari',\n",
       "  'abscess,',\n",
       "  'elev',\n",
       "  'cr,',\n",
       "  'hyperkalemiat1dm,',\n",
       "  'axillari',\n",
       "  'abscesst1dm,',\n",
       "  'axillari',\n",
       "  'abscessdm1',\n",
       "  '-',\n",
       "  'poor',\n",
       "  'control.',\n",
       "  'axial',\n",
       "  'abscess',\n",
       "  'resolved.endo',\n",
       "  'diabet',\n",
       "  'fuf/u',\n",
       "  't1dm,',\n",
       "  'uncontrolleduncontrol',\n",
       "  'dm,',\n",
       "  'gerdendo',\n",
       "  'diabet',\n",
       "  'fuhidraden',\n",
       "  'suppurativa,',\n",
       "  'styeendo',\n",
       "  'diabet',\n",
       "  'fuhfu:',\n",
       "  'cellulitis,',\n",
       "  'tdap',\n",
       "  'and',\n",
       "  'hep',\n",
       "  'b',\n",
       "  'vaccinationdm/',\n",
       "  'obes',\n",
       "  'f/uf/u',\n",
       "  'allerg',\n",
       "  'rxn',\n",
       "  'to',\n",
       "  'bactrim;',\n",
       "  'nose',\n",
       "  'furuncledm,',\n",
       "  'bppvf/u',\n",
       "  't1dmendo',\n",
       "  'diabet',\n",
       "  'fuofv:',\n",
       "  'trembules-prob',\n",
       "  'd/t',\n",
       "  'chronic',\n",
       "  'anxiety,',\n",
       "  'type',\n",
       "  '2',\n",
       "  'dm.dm2',\n",
       "  'w/',\n",
       "  'retinopati',\n",
       "  'and',\n",
       "  'neuropathyendo',\n",
       "  'diabet',\n",
       "  'funew',\n",
       "  'insulin',\n",
       "  'slide',\n",
       "  'scale',\n",
       "  'review',\n",
       "  'with',\n",
       "  'pt.f/u',\n",
       "  'tremorsiddm,',\n",
       "  'mammogramendo',\n",
       "  'diabet',\n",
       "  'fubereav',\n",
       "  'support',\n",
       "  'for',\n",
       "  'loss',\n",
       "  'of',\n",
       "  'motherendo',\n",
       "  'diabet',\n",
       "  'fut1d,',\n",
       "  'suspect',\n",
       "  'dka',\n",
       "  '-',\n",
       "  'sent',\n",
       "  'to',\n",
       "  'ed'],\n",
       " ['refil', 'htn', 'medic'],\n",
       " ['hfu,',\n",
       "  'smoke',\n",
       "  'cessation/prediabetesvir',\n",
       "  'uriuri',\n",
       "  'and',\n",
       "  'worsen',\n",
       "  'asthmauncontrol',\n",
       "  'hypertension,',\n",
       "  'new',\n",
       "  'dmf/u',\n",
       "  'htn',\n",
       "  'and',\n",
       "  'dm2f/u',\n",
       "  'dm2',\n",
       "  'and',\n",
       "  'htnstrep',\n",
       "  'pharyngitishfuf/u',\n",
       "  'dm2,',\n",
       "  'htn,',\n",
       "  'irregular',\n",
       "  'mensessinsusitis,',\n",
       "  'uridm,',\n",
       "  'hypertension,',\n",
       "  'obes'],\n",
       " ['dm,',\n",
       "  'htn,',\n",
       "  'anemia',\n",
       "  'follow',\n",
       "  'uphfu',\n",
       "  '-',\n",
       "  'htn,',\n",
       "  'coreg',\n",
       "  'restart',\n",
       "  'at',\n",
       "  'lower',\n",
       "  'dosef/u',\n",
       "  'htn',\n",
       "  '-',\n",
       "  'c/w',\n",
       "  'current',\n",
       "  'regimentdm',\n",
       "  'f/u',\n",
       "  'decreas',\n",
       "  'pm',\n",
       "  'levemirhtn,',\n",
       "  'dm',\n",
       "  'f/ubp',\n",
       "  'checkhtn,',\n",
       "  'dm',\n",
       "  'follow',\n",
       "  'uphfu,',\n",
       "  'vertigo,',\n",
       "  'htn,',\n",
       "  'dmdm,',\n",
       "  'chf,',\n",
       "  'ckd,',\n",
       "  'htn,',\n",
       "  'advanc',\n",
       "  'directivesdm2',\n",
       "  'with',\n",
       "  'hypoglycemia.',\n",
       "  'decreas',\n",
       "  'novolog.',\n",
       "  'dexa,',\n",
       "  'colonoscopydm2',\n",
       "  'follow',\n",
       "  'up',\n",
       "  'for',\n",
       "  'hypoglyecemia.(',\n",
       "  'mmse',\n",
       "  'done',\n",
       "  '27/30)worsen',\n",
       "  'renal',\n",
       "  'failure,',\n",
       "  'htn,',\n",
       "  'heart',\n",
       "  'dis,',\n",
       "  'dm79yo',\n",
       "  'woman',\n",
       "  'fu',\n",
       "  'for',\n",
       "  'dm,',\n",
       "  'ophthalm',\n",
       "  'referral,',\n",
       "  'dexa',\n",
       "  'scan',\n",
       "  're-orderdm',\n",
       "  'f/u,',\n",
       "  'ckd79',\n",
       "  'y/o',\n",
       "  'f',\n",
       "  'here',\n",
       "  'for',\n",
       "  'f/u',\n",
       "  'on',\n",
       "  'dm',\n",
       "  'and',\n",
       "  'htnpreoper',\n",
       "  'medic',\n",
       "  'assessmentbp',\n",
       "  'checkdm,',\n",
       "  'htn,',\n",
       "  'viral',\n",
       "  'urif/u',\n",
       "  'on',\n",
       "  'htn',\n",
       "  'and',\n",
       "  'dmhtn,',\n",
       "  'dm,',\n",
       "  'hyperkalmeiadm,',\n",
       "  'need',\n",
       "  'referr',\n",
       "  'to',\n",
       "  'oncologistf/u',\n",
       "  'dm,',\n",
       "  'weight',\n",
       "  'lossdm,',\n",
       "  'htn,',\n",
       "  'subclin',\n",
       "  'hypothyrpoid',\n",
       "  'monitoring,',\n",
       "  'inc',\n",
       "  'beta',\n",
       "  '2-heme',\n",
       "  'refdm2',\n",
       "  'in',\n",
       "  'too',\n",
       "  'tight',\n",
       "  'control',\n",
       "  '&',\n",
       "  'w',\n",
       "  'low',\n",
       "  \"cbg-d/c'ed\",\n",
       "  'premeal',\n",
       "  'insulindm',\n",
       "  'follow',\n",
       "  'updm,',\n",
       "  'htn,',\n",
       "  'flu',\n",
       "  'vaccinedm',\n",
       "  'ii',\n",
       "  'follow',\n",
       "  'up,',\n",
       "  'headachedm',\n",
       "  '+',\n",
       "  'htnendo',\n",
       "  'diabet',\n",
       "  'fu',\n",
       "  '-',\n",
       "  'ed',\n",
       "  'referralf/u',\n",
       "  'dm,',\n",
       "  'htnf/u',\n",
       "  'dm',\n",
       "  ',htnf/u',\n",
       "  'on',\n",
       "  'htn,',\n",
       "  'dm,',\n",
       "  'chf',\n",
       "  '&',\n",
       "  'hypothyroidismf/u',\n",
       "  'dm,',\n",
       "  'htn,',\n",
       "  'inc',\n",
       "  'synthroid',\n",
       "  'to',\n",
       "  '50',\n",
       "  'mcgendo',\n",
       "  'diabet',\n",
       "  'fuf/u',\n",
       "  'dm,',\n",
       "  'htn,',\n",
       "  'inc.',\n",
       "  \"lft's,\",\n",
       "  'labs,',\n",
       "  'ruq',\n",
       "  'u/',\n",
       "  'ordertransamin',\n",
       "  'dizziness,',\n",
       "  'sent',\n",
       "  'to',\n",
       "  'dr.hale,',\n",
       "  'cut',\n",
       "  'down',\n",
       "  'on',\n",
       "  'lisinoprill',\n",
       "  'edema',\n",
       "  '-',\n",
       "  'increas',\n",
       "  'lasix',\n",
       "  'x',\n",
       "  '5',\n",
       "  'days,',\n",
       "  'hypothyroidendo',\n",
       "  'diabet',\n",
       "  'fuf/u',\n",
       "  'le',\n",
       "  'edema,',\n",
       "  'htnf/u',\n",
       "  'on',\n",
       "  'le',\n",
       "  'edemaf/u',\n",
       "  'hfpef,',\n",
       "  'dm2,',\n",
       "  'hypothyroid,',\n",
       "  'uchfu,',\n",
       "  'hfpef,',\n",
       "  'aki,',\n",
       "  'decreas',\n",
       "  'coreg,',\n",
       "  'decreas',\n",
       "  'diuresishfpef,',\n",
       "  'htn,',\n",
       "  'dm2,',\n",
       "  'uc,',\n",
       "  'ckdf/u',\n",
       "  'htn',\n",
       "  '(restart',\n",
       "  'hydra/imdur',\n",
       "  'dose',\n",
       "  'increase);',\n",
       "  'dm,',\n",
       "  'hypothyroidhfu',\n",
       "  'for',\n",
       "  'ich',\n",
       "  '2/2',\n",
       "  'uncontrol',\n",
       "  'bp,',\n",
       "  'incr',\n",
       "  'clonidin',\n",
       "  'patch',\n",
       "  '0.3',\n",
       "  'mged',\n",
       "  'fu',\n",
       "  'for',\n",
       "  'htn,',\n",
       "  'need',\n",
       "  'thorough',\n",
       "  'med',\n",
       "  'rechtn',\n",
       "  'f/u',\n",
       "  'and',\n",
       "  'hfuhfu',\n",
       "  'htn',\n",
       "  'elev',\n",
       "  'cr',\n",
       "  'd/t',\n",
       "  'iv',\n",
       "  'contrast,',\n",
       "  '?',\n",
       "  'dec',\n",
       "  'cognition/nonadherencedvt,',\n",
       "  'hx',\n",
       "  'intracrani',\n",
       "  'bleed,',\n",
       "  'htndvt,',\n",
       "  'eliquis,',\n",
       "  'htn',\n",
       "  'w',\n",
       "  'white',\n",
       "  'coat',\n",
       "  'component,',\n",
       "  'hypothyroid,',\n",
       "  'flu',\n",
       "  'vax'],\n",
       " ['iddm,',\n",
       "  'htndizziness,',\n",
       "  'dm,',\n",
       "  'htn',\n",
       "  'follow',\n",
       "  'upbp',\n",
       "  'checkuncontrol',\n",
       "  'htn,',\n",
       "  'dm,',\n",
       "  'obesitydm',\n",
       "  'and',\n",
       "  'htn',\n",
       "  'f/udm,',\n",
       "  'htn',\n",
       "  'f/ubp',\n",
       "  'checkhtn',\n",
       "  '&',\n",
       "  'dm',\n",
       "  'f/udm,',\n",
       "  'htn,',\n",
       "  'pvd',\n",
       "  'follow',\n",
       "  'upblood',\n",
       "  'pressur',\n",
       "  'checkhtn,',\n",
       "  'dm,',\n",
       "  'pvd',\n",
       "  'follow',\n",
       "  'upappend',\n",
       "  'for',\n",
       "  'billingf/u',\n",
       "  'dm,',\n",
       "  'htn.',\n",
       "  'rx.',\n",
       "  'new',\n",
       "  'rectal',\n",
       "  'ca.f/u',\n",
       "  'diabet',\n",
       "  'and',\n",
       "  'htnhtn,',\n",
       "  't2dm,',\n",
       "  'rectal',\n",
       "  'carcinomapre-op',\n",
       "  'laproscopin',\n",
       "  'ant',\n",
       "  'resect']]"
      ]
     },
     "execution_count": 71,
     "metadata": {},
     "output_type": "execute_result"
    }
   ],
   "source": [
    "stems = []\n",
    "for row in list_2d:\n",
    "    stems.append([])\n",
    "    for word in row:\n",
    "        stems[-1].append(stemmer.stem(word))\n",
    "stems[:10]"
   ]
  },
  {
   "cell_type": "code",
   "execution_count": 72,
   "metadata": {},
   "outputs": [],
   "source": [
    "new_df['clean_text'] = pd.Series([\" \".join(word) for word in stems])"
   ]
  },
  {
   "cell_type": "code",
   "execution_count": 73,
   "metadata": {},
   "outputs": [
    {
     "data": {
      "text/html": [
       "<div>\n",
       "<style scoped>\n",
       "    .dataframe tbody tr th:only-of-type {\n",
       "        vertical-align: middle;\n",
       "    }\n",
       "\n",
       "    .dataframe tbody tr th {\n",
       "        vertical-align: top;\n",
       "    }\n",
       "\n",
       "    .dataframe thead th {\n",
       "        text-align: right;\n",
       "    }\n",
       "</style>\n",
       "<table border=\"1\" class=\"dataframe\">\n",
       "  <thead>\n",
       "    <tr style=\"text-align: right;\">\n",
       "      <th></th>\n",
       "      <th>patient_id</th>\n",
       "      <th>age</th>\n",
       "      <th>num_visits</th>\n",
       "      <th>avg_time_between_visits</th>\n",
       "      <th>avg_a1c</th>\n",
       "      <th>avg_control_level</th>\n",
       "      <th>num_obs</th>\n",
       "      <th>total_summary</th>\n",
       "      <th>clean_text</th>\n",
       "    </tr>\n",
       "  </thead>\n",
       "  <tbody>\n",
       "    <tr>\n",
       "      <th>0</th>\n",
       "      <td>72</td>\n",
       "      <td>56</td>\n",
       "      <td>10</td>\n",
       "      <td>99.777778</td>\n",
       "      <td>7.833333</td>\n",
       "      <td>1</td>\n",
       "      <td>6</td>\n",
       "      <td>followup diabetes, med refillf/u lab results, ...</td>\n",
       "      <td>followup diabetes, med refillf/u lab results, ...</td>\n",
       "    </tr>\n",
       "    <tr>\n",
       "      <th>1</th>\n",
       "      <td>254</td>\n",
       "      <td>64</td>\n",
       "      <td>54</td>\n",
       "      <td>20.584906</td>\n",
       "      <td>8.842857</td>\n",
       "      <td>0</td>\n",
       "      <td>7</td>\n",
       "      <td>Acute viral illnessf/uRm13 Follow upRm11 Follo...</td>\n",
       "      <td>acut viral illnessf/urm13 follow uprm11 follow...</td>\n",
       "    </tr>\n",
       "    <tr>\n",
       "      <th>2</th>\n",
       "      <td>255</td>\n",
       "      <td>64</td>\n",
       "      <td>8</td>\n",
       "      <td>146.857143</td>\n",
       "      <td>10.233333</td>\n",
       "      <td>0</td>\n",
       "      <td>2</td>\n",
       "      <td>DM uncontrolled, HTN uncontrolled, access issu...</td>\n",
       "      <td>dm uncontrolled, htn uncontrolled, access issu...</td>\n",
       "    </tr>\n",
       "    <tr>\n",
       "      <th>3</th>\n",
       "      <td>304</td>\n",
       "      <td>70</td>\n",
       "      <td>5</td>\n",
       "      <td>54.500000</td>\n",
       "      <td>7.000000</td>\n",
       "      <td>1</td>\n",
       "      <td>1</td>\n",
       "      <td>HTN, HLD, DM f/u and refill medLetter for medi...</td>\n",
       "      <td>htn, hld, dm f/u and refil medlett for medic n...</td>\n",
       "    </tr>\n",
       "    <tr>\n",
       "      <th>4</th>\n",
       "      <td>384</td>\n",
       "      <td>66</td>\n",
       "      <td>9</td>\n",
       "      <td>105.250000</td>\n",
       "      <td>8.500000</td>\n",
       "      <td>0</td>\n",
       "      <td>4</td>\n",
       "      <td>64F HTN, DM2, R breast caDM, HLD, HTN f/uDM, h...</td>\n",
       "      <td>64f htn, dm2, r breast cadm, hld, htn f/udm, h...</td>\n",
       "    </tr>\n",
       "  </tbody>\n",
       "</table>\n",
       "</div>"
      ],
      "text/plain": [
       "   patient_id  age  num_visits  avg_time_between_visits    avg_a1c  \\\n",
       "0          72   56          10                99.777778   7.833333   \n",
       "1         254   64          54                20.584906   8.842857   \n",
       "2         255   64           8               146.857143  10.233333   \n",
       "3         304   70           5                54.500000   7.000000   \n",
       "4         384   66           9               105.250000   8.500000   \n",
       "\n",
       "   avg_control_level  num_obs  \\\n",
       "0                  1        6   \n",
       "1                  0        7   \n",
       "2                  0        2   \n",
       "3                  1        1   \n",
       "4                  0        4   \n",
       "\n",
       "                                       total_summary  \\\n",
       "0  followup diabetes, med refillf/u lab results, ...   \n",
       "1  Acute viral illnessf/uRm13 Follow upRm11 Follo...   \n",
       "2  DM uncontrolled, HTN uncontrolled, access issu...   \n",
       "3  HTN, HLD, DM f/u and refill medLetter for medi...   \n",
       "4  64F HTN, DM2, R breast caDM, HLD, HTN f/uDM, h...   \n",
       "\n",
       "                                          clean_text  \n",
       "0  followup diabetes, med refillf/u lab results, ...  \n",
       "1  acut viral illnessf/urm13 follow uprm11 follow...  \n",
       "2  dm uncontrolled, htn uncontrolled, access issu...  \n",
       "3  htn, hld, dm f/u and refil medlett for medic n...  \n",
       "4  64f htn, dm2, r breast cadm, hld, htn f/udm, h...  "
      ]
     },
     "execution_count": 73,
     "metadata": {},
     "output_type": "execute_result"
    }
   ],
   "source": [
    "new_df.head()"
   ]
  },
  {
   "cell_type": "code",
   "execution_count": 74,
   "metadata": {},
   "outputs": [
    {
     "data": {
      "text/plain": [
       "CountVectorizer(analyzer='word', binary=False, decode_error='strict',\n",
       "                dtype=<class 'numpy.int64'>, encoding='utf-8', input='content',\n",
       "                lowercase=True, max_df=1.0, max_features=None, min_df=1,\n",
       "                ngram_range=(1, 1), preprocessor=None,\n",
       "                stop_words=frozenset({'10', '12', '13', 'a', 'about', 'above',\n",
       "                                      'across', 'after', 'afterwards', 'again',\n",
       "                                      'against', 'all', 'almost', 'alone',\n",
       "                                      'along', 'already', 'also', 'although',\n",
       "                                      'always', 'am', 'among', 'amongst',\n",
       "                                      'amoungst', 'amount', 'an', 'and',\n",
       "                                      'another', 'any', 'anyhow', 'anyone', ...}),\n",
       "                strip_accents=None, token_pattern='(?u)\\\\b\\\\w\\\\w+\\\\b',\n",
       "                tokenizer=None, vocabulary=None)"
      ]
     },
     "execution_count": 74,
     "metadata": {},
     "output_type": "execute_result"
    }
   ],
   "source": [
    "cvec_combined.fit(new_df['clean_text'])"
   ]
  },
  {
   "cell_type": "code",
   "execution_count": 75,
   "metadata": {},
   "outputs": [],
   "source": [
    "combined_wordcounts = cvec_combined.transform(new_df['clean_text'])"
   ]
  },
  {
   "cell_type": "code",
   "execution_count": 76,
   "metadata": {},
   "outputs": [],
   "source": [
    "df_combined = pd.DataFrame(combined_wordcounts.toarray(), columns = cvec_combined.get_feature_names())"
   ]
  },
  {
   "cell_type": "code",
   "execution_count": 77,
   "metadata": {},
   "outputs": [
    {
     "data": {
      "text/plain": [
       "<matplotlib.axes._subplots.AxesSubplot at 0x11f723f10>"
      ]
     },
     "execution_count": 77,
     "metadata": {},
     "output_type": "execute_result"
    },
    {
     "data": {
      "image/png": "[encoded data removed]",
      "text/plain": [
       "<Figure size 720x576 with 1 Axes>"
      ]
     },
     "metadata": {
      "needs_background": "light"
     },
     "output_type": "display_data"
    }
   ],
   "source": [
    "df_combined.sum().sort_values(ascending = True).tail(20).plot(kind = 'barh',figsize=(10,8))\n",
    "#look at most freuquently used words for patient summaries "
   ]
  },
  {
   "cell_type": "markdown",
   "metadata": {},
   "source": [
    "Look at most freuquently used words in patients who were on average controlled "
   ]
  },
  {
   "cell_type": "code",
   "execution_count": 78,
   "metadata": {},
   "outputs": [],
   "source": [
    "new_df_controlled= new_df.loc[new_df[\"avg_control_level\"]==1, [\"clean_text\"]]"
   ]
  },
  {
   "cell_type": "code",
   "execution_count": 79,
   "metadata": {},
   "outputs": [
    {
     "data": {
      "text/plain": [
       "0     followup diabetes, med refillf/u lab results, ...\n",
       "3     htn, hld, dm f/u and refil medlett for medic n...\n",
       "6                                       refil htn medic\n",
       "9     iddm, htndizziness, dm, htn follow upbp checku...\n",
       "10    parasthesia, dmdm uncontrol - allerg rhinitisd...\n",
       "Name: clean_text, dtype: object"
      ]
     },
     "execution_count": 79,
     "metadata": {},
     "output_type": "execute_result"
    }
   ],
   "source": [
    "new_df_controlled['clean_text'].head()"
   ]
  },
  {
   "cell_type": "code",
   "execution_count": 80,
   "metadata": {},
   "outputs": [
    {
     "data": {
      "text/plain": [
       "CountVectorizer(analyzer='word', binary=False, decode_error='strict',\n",
       "                dtype=<class 'numpy.int64'>, encoding='utf-8', input='content',\n",
       "                lowercase=True, max_df=1.0, max_features=None, min_df=1,\n",
       "                ngram_range=(1, 1), preprocessor=None,\n",
       "                stop_words=frozenset({'10', '12', '13', 'a', 'about', 'above',\n",
       "                                      'across', 'after', 'afterwards', 'again',\n",
       "                                      'against', 'all', 'almost', 'alone',\n",
       "                                      'along', 'already', 'also', 'although',\n",
       "                                      'always', 'am', 'among', 'amongst',\n",
       "                                      'amoungst', 'amount', 'an', 'and',\n",
       "                                      'another', 'any', 'anyhow', 'anyone', ...}),\n",
       "                strip_accents=None, token_pattern='(?u)\\\\b\\\\w\\\\w+\\\\b',\n",
       "                tokenizer=None, vocabulary=None)"
      ]
     },
     "execution_count": 80,
     "metadata": {},
     "output_type": "execute_result"
    }
   ],
   "source": [
    "cvec_combined.fit(new_df_controlled['clean_text'])"
   ]
  },
  {
   "cell_type": "code",
   "execution_count": 81,
   "metadata": {},
   "outputs": [],
   "source": [
    "combined_wordcounts_controlled = cvec_combined.transform(new_df_controlled['clean_text'])"
   ]
  },
  {
   "cell_type": "code",
   "execution_count": 82,
   "metadata": {},
   "outputs": [],
   "source": [
    "df_combined_controlled = pd.DataFrame(combined_wordcounts_controlled.toarray(), columns = cvec_combined.get_feature_names())"
   ]
  },
  {
   "cell_type": "code",
   "execution_count": 83,
   "metadata": {},
   "outputs": [
    {
     "data": {
      "text/plain": [
       "<matplotlib.axes._subplots.AxesSubplot at 0x11eeeb990>"
      ]
     },
     "execution_count": 83,
     "metadata": {},
     "output_type": "execute_result"
    },
    {
     "data": {
      "image/png": "[encoded data removed]",
      "text/plain": [
       "<Figure size 720x576 with 1 Axes>"
      ]
     },
     "metadata": {
      "needs_background": "light"
     },
     "output_type": "display_data"
    }
   ],
   "source": [
    "df_combined_controlled.sum().sort_values(ascending = True).tail(20).plot(kind = 'barh',figsize=(10,8))"
   ]
  },
  {
   "cell_type": "markdown",
   "metadata": {},
   "source": [
    "Look at most frequently used words in uncontrolled group"
   ]
  },
  {
   "cell_type": "code",
   "execution_count": 62,
   "metadata": {},
   "outputs": [],
   "source": [
    "new_df_uncontrolled= new_df.loc[new_df[\"avg_control_level\"]==0, [\"clean_text\"]]"
   ]
  },
  {
   "cell_type": "code",
   "execution_count": 64,
   "metadata": {},
   "outputs": [
    {
     "data": {
      "text/plain": [
       "CountVectorizer(analyzer='word', binary=False, decode_error='strict',\n",
       "                dtype=<class 'numpy.int64'>, encoding='utf-8', input='content',\n",
       "                lowercase=True, max_df=1.0, max_features=None, min_df=1,\n",
       "                ngram_range=(1, 1), preprocessor=None,\n",
       "                stop_words=frozenset({'12', '13', 'a', 'about', 'above',\n",
       "                                      'across', 'after', 'afterwards', 'again',\n",
       "                                      'against', 'all', 'almost', 'alone',\n",
       "                                      'along', 'already', 'also', 'although',\n",
       "                                      'always', 'am', 'among', 'amongst',\n",
       "                                      'amoungst', 'amount', 'an', 'and',\n",
       "                                      'another', 'any', 'anyhow', 'anyone',\n",
       "                                      'anything', ...}),\n",
       "                strip_accents=None, token_pattern='(?u)\\\\b\\\\w\\\\w+\\\\b',\n",
       "                tokenizer=None, vocabulary=None)"
      ]
     },
     "execution_count": 64,
     "metadata": {},
     "output_type": "execute_result"
    }
   ],
   "source": [
    "cvec_combined.fit(new_df_uncontrolled['clean_text'])"
   ]
  },
  {
   "cell_type": "code",
   "execution_count": 65,
   "metadata": {},
   "outputs": [],
   "source": [
    "combined_wordcounts_uncontrolled = cvec_combined.transform(new_df_uncontrolled['clean_text'])"
   ]
  },
  {
   "cell_type": "code",
   "execution_count": 66,
   "metadata": {},
   "outputs": [],
   "source": [
    "df_combined_uncontrolled = pd.DataFrame(combined_wordcounts_uncontrolled.toarray(), columns = cvec_combined.get_feature_names())"
   ]
  },
  {
   "cell_type": "code",
   "execution_count": 84,
   "metadata": {},
   "outputs": [
    {
     "data": {
      "text/plain": [
       "<matplotlib.axes._subplots.AxesSubplot at 0x12883b850>"
      ]
     },
     "execution_count": 84,
     "metadata": {},
     "output_type": "execute_result"
    },
    {
     "data": {
      "image/png": "[encoded data removed]",
      "text/plain": [
       "<Figure size 720x576 with 1 Axes>"
      ]
     },
     "metadata": {
      "needs_background": "light"
     },
     "output_type": "display_data"
    }
   ],
   "source": [
    "df_combined.sum().sort_values(ascending = True).tail(20).plot(kind = 'barh',figsize=(10,8))"
   ]
  },
  {
   "cell_type": "markdown",
   "metadata": {},
   "source": [
    "Words like hypertension, diabetes, lab, check and refill appear to be in both controlled and uncontrolled groups. I didn't see any major differences in language used for each type of patient. "
   ]
  },
  {
   "cell_type": "markdown",
   "metadata": {},
   "source": [
    "# Modeling"
   ]
  },
  {
   "cell_type": "markdown",
   "metadata": {},
   "source": [
    "Here, I used both CountVectorizer and TfidVectorizer and MultinomialNB to see which transformer would give the best result, and including stop words and no stop words. "
   ]
  },
  {
   "cell_type": "markdown",
   "metadata": {},
   "source": [
    "We used the \"clean_text\" feature to predict whether or not the patient was 0(uncontrolled) or 1 (controlled). The clean_text feature was the stemmed version of all the summary text summed together from the patient's every visit. \n",
    "\n",
    "We train/test/split and created a pipeline and gridsearch using both CountVectorizer and TfidVectorizer with MultinomialNB to see which transformer would give the best result."
   ]
  },
  {
   "cell_type": "code",
   "execution_count": 173,
   "metadata": {},
   "outputs": [],
   "source": [
    "X=new_df[\"clean_text\"]\n",
    "y=new_df[\"avg_control_level\"]"
   ]
  },
  {
   "cell_type": "code",
   "execution_count": 174,
   "metadata": {},
   "outputs": [],
   "source": [
    "new_df.dropna(inplace=True)"
   ]
  },
  {
   "cell_type": "code",
   "execution_count": 175,
   "metadata": {},
   "outputs": [
    {
     "data": {
      "text/plain": [
       "patient_id                 0\n",
       "age                        0\n",
       "num_visits                 0\n",
       "avg_time_between_visits    0\n",
       "avg_a1c                    0\n",
       "avg_control_level          0\n",
       "num_obs                    0\n",
       "total_summary              0\n",
       "clean_text                 0\n",
       "dtype: int64"
      ]
     },
     "execution_count": 175,
     "metadata": {},
     "output_type": "execute_result"
    }
   ],
   "source": [
    "new_df.isnull().sum()"
   ]
  },
  {
   "cell_type": "code",
   "execution_count": 176,
   "metadata": {},
   "outputs": [],
   "source": [
    "X_train,X_test,y_train,y_test=train_test_split(X,y,random_state=39,stratify=y)"
   ]
  },
  {
   "cell_type": "code",
   "execution_count": 177,
   "metadata": {},
   "outputs": [],
   "source": [
    "pipe_cvec= Pipeline([ (\"cvec\", CountVectorizer(stop_words=ENGLISH_STOP_WORDS.union({\n",
    "    'and',\n",
    "    'for',\n",
    "    'to'\n",
    "}))),\n",
    "                        (\"mnb\", MultinomialNB())\n",
    "    \n",
    "])\n",
    "\n",
    "pipe_tvec = Pipeline([\n",
    "    ('tvec', TfidfVectorizer(stop_words=ENGLISH_STOP_WORDS.union({\n",
    " 'and',\n",
    "    'for',\n",
    "    'to'\n",
    "}))),\n",
    "     (\"mnb\", MultinomialNB())\n",
    "    \n",
    "])"
   ]
  },
  {
   "cell_type": "code",
   "execution_count": 178,
   "metadata": {},
   "outputs": [],
   "source": [
    "cvec_params = {\n",
    "    'cvec__max_features': [100, 500],\n",
    "    'cvec__ngram_range': [(1,1), (1,2)],\n",
    "    'cvec__stop_words':[\"english\", None]\n",
    "}\n",
    "\n",
    "tvec_params = {\n",
    "    'tvec__max_features': [100, 500],\n",
    "    'tvec__ngram_range': [(1,1), (1,2)], \n",
    "    'tvec__stop_words':[\"english\", None]\n",
    "}"
   ]
  },
  {
   "cell_type": "code",
   "execution_count": 179,
   "metadata": {},
   "outputs": [],
   "source": [
    "cvec_gridsearch=GridSearchCV(pipe_cvec,\n",
    "                            cvec_params,\n",
    "                            cv=5,\n",
    "                            verbose=1\n",
    "                            )\n",
    "\n",
    "tvec_gridsearch=GridSearchCV(pipe_tvec,\n",
    "                            tvec_params,\n",
    "                            cv=5,\n",
    "                            verbose=1\n",
    "                            )"
   ]
  },
  {
   "cell_type": "code",
   "execution_count": 180,
   "metadata": {},
   "outputs": [
    {
     "name": "stdout",
     "output_type": "stream",
     "text": [
      "Fitting 5 folds for each of 8 candidates, totalling 40 fits\n"
     ]
    },
    {
     "name": "stderr",
     "output_type": "stream",
     "text": [
      "[Parallel(n_jobs=1)]: Using backend SequentialBackend with 1 concurrent workers.\n",
      "[Parallel(n_jobs=1)]: Done  40 out of  40 | elapsed:    3.4s finished\n"
     ]
    },
    {
     "data": {
      "text/plain": [
       "GridSearchCV(cv=5, error_score='raise-deprecating',\n",
       "             estimator=Pipeline(memory=None,\n",
       "                                steps=[('cvec',\n",
       "                                        CountVectorizer(analyzer='word',\n",
       "                                                        binary=False,\n",
       "                                                        decode_error='strict',\n",
       "                                                        dtype=<class 'numpy.int64'>,\n",
       "                                                        encoding='utf-8',\n",
       "                                                        input='content',\n",
       "                                                        lowercase=True,\n",
       "                                                        max_df=1.0,\n",
       "                                                        max_features=None,\n",
       "                                                        min_df=1,\n",
       "                                                        ngram_range=(1, 1),\n",
       "                                                        preprocessor=None,\n",
       "                                                        stop_words=frozenset({'a',\n",
       "                                                                              'about',\n",
       "                                                                              'abo...\n",
       "                                                        token_pattern='(?u)\\\\b\\\\w\\\\w+\\\\b',\n",
       "                                                        tokenizer=None,\n",
       "                                                        vocabulary=None)),\n",
       "                                       ('mnb',\n",
       "                                        MultinomialNB(alpha=1.0,\n",
       "                                                      class_prior=None,\n",
       "                                                      fit_prior=True))],\n",
       "                                verbose=False),\n",
       "             iid='warn', n_jobs=None,\n",
       "             param_grid={'cvec__max_features': [100, 500],\n",
       "                         'cvec__ngram_range': [(1, 1), (1, 2)],\n",
       "                         'cvec__stop_words': ['english', None]},\n",
       "             pre_dispatch='2*n_jobs', refit=True, return_train_score=False,\n",
       "             scoring=None, verbose=1)"
      ]
     },
     "execution_count": 180,
     "metadata": {},
     "output_type": "execute_result"
    }
   ],
   "source": [
    "cvec_gridsearch.fit(X_train,y_train)"
   ]
  },
  {
   "cell_type": "code",
   "execution_count": 181,
   "metadata": {},
   "outputs": [
    {
     "name": "stdout",
     "output_type": "stream",
     "text": [
      "0.6354556803995006\n"
     ]
    }
   ],
   "source": [
    "print(cvec_gridsearch.best_score_)"
   ]
  },
  {
   "cell_type": "code",
   "execution_count": 182,
   "metadata": {},
   "outputs": [],
   "source": [
    "cvec_model = cvec_gridsearch.best_estimator_"
   ]
  },
  {
   "cell_type": "code",
   "execution_count": 183,
   "metadata": {},
   "outputs": [
    {
     "data": {
      "text/plain": [
       "0.7640449438202247"
      ]
     },
     "execution_count": 183,
     "metadata": {},
     "output_type": "execute_result"
    }
   ],
   "source": [
    "cvec_model.score(X_train, y_train)"
   ]
  },
  {
   "cell_type": "code",
   "execution_count": 184,
   "metadata": {},
   "outputs": [
    {
     "data": {
      "text/plain": [
       "0.602996254681648"
      ]
     },
     "execution_count": 184,
     "metadata": {},
     "output_type": "execute_result"
    }
   ],
   "source": [
    "cvec_model.score(X_test, y_test)"
   ]
  },
  {
   "cell_type": "code",
   "execution_count": 185,
   "metadata": {},
   "outputs": [
    {
     "name": "stderr",
     "output_type": "stream",
     "text": [
      "[Parallel(n_jobs=1)]: Using backend SequentialBackend with 1 concurrent workers.\n"
     ]
    },
    {
     "name": "stdout",
     "output_type": "stream",
     "text": [
      "Fitting 5 folds for each of 8 candidates, totalling 40 fits\n"
     ]
    },
    {
     "name": "stderr",
     "output_type": "stream",
     "text": [
      "[Parallel(n_jobs=1)]: Done  40 out of  40 | elapsed:    4.0s finished\n"
     ]
    },
    {
     "data": {
      "text/plain": [
       "GridSearchCV(cv=5, error_score='raise-deprecating',\n",
       "             estimator=Pipeline(memory=None,\n",
       "                                steps=[('tvec',\n",
       "                                        TfidfVectorizer(analyzer='word',\n",
       "                                                        binary=False,\n",
       "                                                        decode_error='strict',\n",
       "                                                        dtype=<class 'numpy.float64'>,\n",
       "                                                        encoding='utf-8',\n",
       "                                                        input='content',\n",
       "                                                        lowercase=True,\n",
       "                                                        max_df=1.0,\n",
       "                                                        max_features=None,\n",
       "                                                        min_df=1,\n",
       "                                                        ngram_range=(1, 1),\n",
       "                                                        norm='l2',\n",
       "                                                        preprocessor=None,\n",
       "                                                        smooth_idf=True,\n",
       "                                                        stop_words...\n",
       "                                                        token_pattern='(?u)\\\\b\\\\w\\\\w+\\\\b',\n",
       "                                                        tokenizer=None,\n",
       "                                                        use_idf=True,\n",
       "                                                        vocabulary=None)),\n",
       "                                       ('mnb',\n",
       "                                        MultinomialNB(alpha=1.0,\n",
       "                                                      class_prior=None,\n",
       "                                                      fit_prior=True))],\n",
       "                                verbose=False),\n",
       "             iid='warn', n_jobs=None,\n",
       "             param_grid={'tvec__max_features': [100, 500],\n",
       "                         'tvec__ngram_range': [(1, 1), (1, 2)],\n",
       "                         'tvec__stop_words': ['english', None]},\n",
       "             pre_dispatch='2*n_jobs', refit=True, return_train_score=False,\n",
       "             scoring=None, verbose=1)"
      ]
     },
     "execution_count": 185,
     "metadata": {},
     "output_type": "execute_result"
    }
   ],
   "source": [
    "tvec_gridsearch.fit(X_train, y_train)"
   ]
  },
  {
   "cell_type": "code",
   "execution_count": 186,
   "metadata": {},
   "outputs": [
    {
     "name": "stdout",
     "output_type": "stream",
     "text": [
      "0.6354556803995006\n"
     ]
    }
   ],
   "source": [
    "print(tvec_gridsearch.best_score_)"
   ]
  },
  {
   "cell_type": "code",
   "execution_count": 187,
   "metadata": {},
   "outputs": [],
   "source": [
    "tvec_model = tvec_gridsearch.best_estimator_"
   ]
  },
  {
   "cell_type": "code",
   "execution_count": 188,
   "metadata": {},
   "outputs": [
    {
     "data": {
      "text/plain": [
       "Pipeline(memory=None,\n",
       "         steps=[('tvec',\n",
       "                 TfidfVectorizer(analyzer='word', binary=False,\n",
       "                                 decode_error='strict',\n",
       "                                 dtype=<class 'numpy.float64'>,\n",
       "                                 encoding='utf-8', input='content',\n",
       "                                 lowercase=True, max_df=1.0, max_features=500,\n",
       "                                 min_df=1, ngram_range=(1, 1), norm='l2',\n",
       "                                 preprocessor=None, smooth_idf=True,\n",
       "                                 stop_words=None, strip_accents=None,\n",
       "                                 sublinear_tf=False,\n",
       "                                 token_pattern='(?u)\\\\b\\\\w\\\\w+\\\\b',\n",
       "                                 tokenizer=None, use_idf=True,\n",
       "                                 vocabulary=None)),\n",
       "                ('mnb',\n",
       "                 MultinomialNB(alpha=1.0, class_prior=None, fit_prior=True))],\n",
       "         verbose=False)"
      ]
     },
     "execution_count": 188,
     "metadata": {},
     "output_type": "execute_result"
    }
   ],
   "source": [
    "tvec_model"
   ]
  },
  {
   "cell_type": "code",
   "execution_count": 189,
   "metadata": {},
   "outputs": [
    {
     "data": {
      "text/plain": [
       "0.731585518102372"
      ]
     },
     "execution_count": 189,
     "metadata": {},
     "output_type": "execute_result"
    }
   ],
   "source": [
    "tvec_model.score(X_train, y_train)"
   ]
  },
  {
   "cell_type": "code",
   "execution_count": 190,
   "metadata": {},
   "outputs": [
    {
     "data": {
      "text/plain": [
       "0.6217228464419475"
      ]
     },
     "execution_count": 190,
     "metadata": {},
     "output_type": "execute_result"
    }
   ],
   "source": [
    "tvec_model.score(X_test, y_test)"
   ]
  },
  {
   "cell_type": "code",
   "execution_count": 191,
   "metadata": {},
   "outputs": [
    {
     "name": "stdout",
     "output_type": "stream",
     "text": [
      " Predicted values: [0 0 0 0 1 0 0 0 0 0 0 0 0 0 0 0 0 1 0 0 0 0 1 0 0 0 0 1 1 0 1 0 0 0 0 0 1\n",
      " 0 0 0 0 0 0 0 1 0 1 0 1 0 0 1 0 0 0 0 0 0 0 0 0 1 0 0 0 0 0 0 0 0 0 0 0 0\n",
      " 1 0 1 0 0 0 0 0 0 0 0 0 0 0 0 0 1 0 0 1 0 0 0 0 0 0 1 0 0 0 1 0 0 0 0 0 0\n",
      " 0 0 1 1 0 0 0 0 1 0 0 0 1 0 0 0 0 0 0 0 0 1 0 0 0 0 0 1 0 0 0 0 0 0 0 0 0\n",
      " 0 1 1 0 0 0 0 0 0 0 0 0 0 0 0 0 0 0 0 0 0 1 0 0 1 1 0 0 1 0 0 0 0 0 0 0 0\n",
      " 0 0 0 0 0 1 1 1 1 0 0 0 0 0 0 0 1 0 0 0 1 0 0 0 0 0 0 0 0 0 0 0 0 0 1 0 0\n",
      " 0 1 1 1 0 0 0 1 0 0 0 0 0 0 0 0 0 0 0 1 0 0 0 1 1 0 0 0 0 1 0 1 0 0 0 0 0\n",
      " 1 0 0 0 0 0 0 1 1 0 1 0 0 0 1 0 0 0 0 0 0 0 0 0 1 0 0 0 0 0 0 0 0 0 0 0 0\n",
      " 0 0 0 0 0 0 0 1 1 0 1 0 0 0 1 0 0 1 0 0 0 0 0 0 0 1 0 0 0 0 0 0 0 0 1 0 0\n",
      " 0 0 0 0 0 0 0 0 0 0 0 0 0 0 0 0 0 0 0 1 0 0 0 0 0 1 0 0 0 0 0 0 0 0 0 0 0\n",
      " 1 0 0 0 1 0 0 0 0 0 0 0 0 0 0 0 1 1 1 0 0 0 0 0 0 0 0 0 0 0 0 0 0 0 0 0 1\n",
      " 0 0 0 0 0 1 0 0 1 0 0 0 0 0 0 0 1 0 1 0 0 0 1 0 1 0 1 0 0 0 0 0 0 0 0 1 0\n",
      " 0 0 0 0 0 1 0 0 0 0 0 0 0 0 1 0 0 0 0 0 0 0 0 0 1 0 0 0 1 0 1 1 0 0 0 0 1\n",
      " 0 0 0 0 0 0 0 1 0 0 0 0 1 0 0 0 0 0 0 1 0 1 0 0 0 1 0 1 0 0 0 0 0 0 0 0 0\n",
      " 1 0 0 0 0 1 0 0 1 0 0 0 0 0 0 0 0 1 0 0 0 0 0 0 1 0 0 1 0 0 0 0 0 0 0 0 0\n",
      " 1 0 1 0 0 0 0 1 0 0 0 1 0 0 0 1 0 0 1 0 0 0 0 0 0 0 0 0 0 0 1 0 0 0 1 0 0\n",
      " 0 0 0 0 0 0 0 0 0 0 0 0 1 0 1 1 0 1 0 0 1 1 0 0 0 0 0 0 0 0 0 0 0 0 0 1 0\n",
      " 0 0 0 0 0 1 0 0 0 0 1 0 0 0 0 0 0 0 1 0 1 0 0 0 1 1 1 0 0 0 1 0 0 0 1 0 0\n",
      " 1 0 0 0 0 0 1 0 0 0 0 0 0 0 0 0 1 0 1 0 0 1 0 0 0 0 0 1 1 0 0 0 0 0 0 1 0\n",
      " 0 0 0 0 0 1 0 0 0 1 0 0 0 0 0 0 0 0 0 0 0 0 0 0 1 0 0 1 0 0 0 0 0 0 0 0 0\n",
      " 0 0 0 0 0 1 0 0 0 0 0 0 0 0 0 0 0 0 0 0 1 0 0 0 0 0 0 0 0 0 1 0 0 0 0 0 0\n",
      " 1 0 0 1 1 0 0 0 0 1 0 1 0 0 0 0 1 0 0 1 0 0 1 0]\n"
     ]
    }
   ],
   "source": [
    "print(f' Predicted values: {tvec_gridsearch.predict(X_train)}')"
   ]
  },
  {
   "cell_type": "code",
   "execution_count": 192,
   "metadata": {},
   "outputs": [],
   "source": [
    "pred=tvec_gridsearch.predict(X_test)"
   ]
  },
  {
   "cell_type": "code",
   "execution_count": 193,
   "metadata": {},
   "outputs": [],
   "source": [
    "cm = confusion_matrix(y_test, pred)"
   ]
  },
  {
   "cell_type": "code",
   "execution_count": 194,
   "metadata": {},
   "outputs": [
    {
     "data": {
      "text/html": [
       "<div>\n",
       "<style scoped>\n",
       "    .dataframe tbody tr th:only-of-type {\n",
       "        vertical-align: middle;\n",
       "    }\n",
       "\n",
       "    .dataframe tbody tr th {\n",
       "        vertical-align: top;\n",
       "    }\n",
       "\n",
       "    .dataframe thead th {\n",
       "        text-align: right;\n",
       "    }\n",
       "</style>\n",
       "<table border=\"1\" class=\"dataframe\">\n",
       "  <thead>\n",
       "    <tr style=\"text-align: right;\">\n",
       "      <th></th>\n",
       "      <th>Predict Postitive</th>\n",
       "      <th>Predict Negative</th>\n",
       "    </tr>\n",
       "  </thead>\n",
       "  <tbody>\n",
       "    <tr>\n",
       "      <th>Actual Positive</th>\n",
       "      <td>147</td>\n",
       "      <td>13</td>\n",
       "    </tr>\n",
       "    <tr>\n",
       "      <th>Actual Negative</th>\n",
       "      <td>88</td>\n",
       "      <td>19</td>\n",
       "    </tr>\n",
       "  </tbody>\n",
       "</table>\n",
       "</div>"
      ],
      "text/plain": [
       "                 Predict Postitive  Predict Negative\n",
       "Actual Positive                147                13\n",
       "Actual Negative                 88                19"
      ]
     },
     "execution_count": 194,
     "metadata": {},
     "output_type": "execute_result"
    }
   ],
   "source": [
    "pd.DataFrame(data = cm, columns = ['Predict Postitive', 'Predict Negative'],\n",
    "             index = ['Actual Positive', 'Actual Negative'])"
   ]
  },
  {
   "cell_type": "markdown",
   "metadata": {},
   "source": [
    "Modelling using NLP still doesn't perform that much better than our baseline score"
   ]
  },
  {
   "cell_type": "code",
   "execution_count": null,
   "metadata": {},
   "outputs": [],
   "source": []
  }
 ],
 "metadata": {
  "kernelspec": {
   "display_name": "Python 3",
   "language": "python",
   "name": "python3"
  },
  "language_info": {
   "codemirror_mode": {
    "name": "ipython",
    "version": 3
   },
   "file_extension": ".py",
   "mimetype": "text/x-python",
   "name": "python",
   "nbconvert_exporter": "python",
   "pygments_lexer": "ipython3",
   "version": "3.7.4"
  },
  "toc": {
   "base_numbering": 1,
   "nav_menu": {},
   "number_sections": true,
   "sideBar": true,
   "skip_h1_title": false,
   "title_cell": "Table of Contents",
   "title_sidebar": "Contents",
   "toc_cell": false,
   "toc_position": {},
   "toc_section_display": true,
   "toc_window_display": false
  }
 },
 "nbformat": 4,
 "nbformat_minor": 2
}
