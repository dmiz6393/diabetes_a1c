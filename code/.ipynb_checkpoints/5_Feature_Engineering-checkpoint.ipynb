{
 "cells": [
  {
   "cell_type": "code",
   "execution_count": 1,
   "metadata": {},
   "outputs": [],
   "source": [
    "import pandas as pd\n",
    "import numpy as np\n",
    "import seaborn as sns\n",
    "import matplotlib.pyplot as plt\n",
    "pd.set_option('display.max_columns', 100)\n",
    "pd.set_option('display.max_rows', 500)\n",
    "%matplotlib inline"
   ]
  },
  {
   "cell_type": "code",
   "execution_count": 2,
   "metadata": {},
   "outputs": [],
   "source": [
    "df= pd.read_csv(\"../data/sorted_sum_data.csv\")"
   ]
  },
  {
   "cell_type": "code",
   "execution_count": 3,
   "metadata": {},
   "outputs": [],
   "source": [
    "data_a1c_df=pd.read_csv(\"../data/date_a1c_df.csv\")"
   ]
  },
  {
   "cell_type": "code",
   "execution_count": 4,
   "metadata": {},
   "outputs": [
    {
     "data": {
      "text/html": [
       "<div>\n",
       "<style scoped>\n",
       "    .dataframe tbody tr th:only-of-type {\n",
       "        vertical-align: middle;\n",
       "    }\n",
       "\n",
       "    .dataframe tbody tr th {\n",
       "        vertical-align: top;\n",
       "    }\n",
       "\n",
       "    .dataframe thead th {\n",
       "        text-align: right;\n",
       "    }\n",
       "</style>\n",
       "<table border=\"1\" class=\"dataframe\">\n",
       "  <thead>\n",
       "    <tr style=\"text-align: right;\">\n",
       "      <th></th>\n",
       "      <th>Unnamed: 0</th>\n",
       "      <th>patient_id</th>\n",
       "      <th>age</th>\n",
       "      <th>visit_date</th>\n",
       "      <th>summary</th>\n",
       "      <th>num_visits</th>\n",
       "      <th>time_between_visits</th>\n",
       "      <th>avg_time_between_visits</th>\n",
       "      <th>avg_a1c</th>\n",
       "    </tr>\n",
       "  </thead>\n",
       "  <tbody>\n",
       "    <tr>\n",
       "      <th>0</th>\n",
       "      <td>0</td>\n",
       "      <td>72</td>\n",
       "      <td>56</td>\n",
       "      <td>2017-07-19</td>\n",
       "      <td>followup diabetes, med refill</td>\n",
       "      <td>10</td>\n",
       "      <td>9.0</td>\n",
       "      <td>99.777778</td>\n",
       "      <td>7.833333</td>\n",
       "    </tr>\n",
       "    <tr>\n",
       "      <th>1</th>\n",
       "      <td>1</td>\n",
       "      <td>72</td>\n",
       "      <td>56</td>\n",
       "      <td>2017-07-28</td>\n",
       "      <td>f/u lab results, DM2, HLD</td>\n",
       "      <td>10</td>\n",
       "      <td>103.0</td>\n",
       "      <td>99.777778</td>\n",
       "      <td>7.833333</td>\n",
       "    </tr>\n",
       "    <tr>\n",
       "      <th>2</th>\n",
       "      <td>2</td>\n",
       "      <td>72</td>\n",
       "      <td>56</td>\n",
       "      <td>2017-11-08</td>\n",
       "      <td>DM and dyslipidemia follow-up</td>\n",
       "      <td>10</td>\n",
       "      <td>100.0</td>\n",
       "      <td>99.777778</td>\n",
       "      <td>7.833333</td>\n",
       "    </tr>\n",
       "    <tr>\n",
       "      <th>3</th>\n",
       "      <td>3</td>\n",
       "      <td>72</td>\n",
       "      <td>56</td>\n",
       "      <td>2018-02-16</td>\n",
       "      <td>Uncontrolled DM</td>\n",
       "      <td>10</td>\n",
       "      <td>75.0</td>\n",
       "      <td>99.777778</td>\n",
       "      <td>7.833333</td>\n",
       "    </tr>\n",
       "    <tr>\n",
       "      <th>4</th>\n",
       "      <td>4</td>\n",
       "      <td>72</td>\n",
       "      <td>56</td>\n",
       "      <td>2018-05-02</td>\n",
       "      <td>DM - hypoglycemia- dec. glyburide</td>\n",
       "      <td>10</td>\n",
       "      <td>149.0</td>\n",
       "      <td>99.777778</td>\n",
       "      <td>7.833333</td>\n",
       "    </tr>\n",
       "  </tbody>\n",
       "</table>\n",
       "</div>"
      ],
      "text/plain": [
       "   Unnamed: 0  patient_id  age  visit_date                            summary  \\\n",
       "0           0          72   56  2017-07-19      followup diabetes, med refill   \n",
       "1           1          72   56  2017-07-28          f/u lab results, DM2, HLD   \n",
       "2           2          72   56  2017-11-08      DM and dyslipidemia follow-up   \n",
       "3           3          72   56  2018-02-16                    Uncontrolled DM   \n",
       "4           4          72   56  2018-05-02  DM - hypoglycemia- dec. glyburide   \n",
       "\n",
       "   num_visits  time_between_visits  avg_time_between_visits   avg_a1c  \n",
       "0          10                  9.0                99.777778  7.833333  \n",
       "1          10                103.0                99.777778  7.833333  \n",
       "2          10                100.0                99.777778  7.833333  \n",
       "3          10                 75.0                99.777778  7.833333  \n",
       "4          10                149.0                99.777778  7.833333  "
      ]
     },
     "execution_count": 4,
     "metadata": {},
     "output_type": "execute_result"
    }
   ],
   "source": [
    "df.head()"
   ]
  },
  {
   "cell_type": "code",
   "execution_count": 5,
   "metadata": {},
   "outputs": [],
   "source": [
    "df.drop(columns=[\"Unnamed: 0\"],inplace=True)"
   ]
  },
  {
   "cell_type": "code",
   "execution_count": 6,
   "metadata": {},
   "outputs": [],
   "source": [
    "#create a new dataframe so that we have one row per patient with average a1c,average time between visits, age, and number of visits\n",
    "new_df = df[['patient_id', 'age',\"num_visits\",\"avg_time_between_visits\",\"avg_a1c\"]].copy()"
   ]
  },
  {
   "cell_type": "code",
   "execution_count": 7,
   "metadata": {},
   "outputs": [
    {
     "data": {
      "text/html": [
       "<div>\n",
       "<style scoped>\n",
       "    .dataframe tbody tr th:only-of-type {\n",
       "        vertical-align: middle;\n",
       "    }\n",
       "\n",
       "    .dataframe tbody tr th {\n",
       "        vertical-align: top;\n",
       "    }\n",
       "\n",
       "    .dataframe thead th {\n",
       "        text-align: right;\n",
       "    }\n",
       "</style>\n",
       "<table border=\"1\" class=\"dataframe\">\n",
       "  <thead>\n",
       "    <tr style=\"text-align: right;\">\n",
       "      <th></th>\n",
       "      <th>patient_id</th>\n",
       "      <th>age</th>\n",
       "      <th>num_visits</th>\n",
       "      <th>avg_time_between_visits</th>\n",
       "      <th>avg_a1c</th>\n",
       "    </tr>\n",
       "  </thead>\n",
       "  <tbody>\n",
       "    <tr>\n",
       "      <th>0</th>\n",
       "      <td>72</td>\n",
       "      <td>56</td>\n",
       "      <td>10</td>\n",
       "      <td>99.777778</td>\n",
       "      <td>7.833333</td>\n",
       "    </tr>\n",
       "    <tr>\n",
       "      <th>1</th>\n",
       "      <td>72</td>\n",
       "      <td>56</td>\n",
       "      <td>10</td>\n",
       "      <td>99.777778</td>\n",
       "      <td>7.833333</td>\n",
       "    </tr>\n",
       "    <tr>\n",
       "      <th>2</th>\n",
       "      <td>72</td>\n",
       "      <td>56</td>\n",
       "      <td>10</td>\n",
       "      <td>99.777778</td>\n",
       "      <td>7.833333</td>\n",
       "    </tr>\n",
       "    <tr>\n",
       "      <th>3</th>\n",
       "      <td>72</td>\n",
       "      <td>56</td>\n",
       "      <td>10</td>\n",
       "      <td>99.777778</td>\n",
       "      <td>7.833333</td>\n",
       "    </tr>\n",
       "    <tr>\n",
       "      <th>4</th>\n",
       "      <td>72</td>\n",
       "      <td>56</td>\n",
       "      <td>10</td>\n",
       "      <td>99.777778</td>\n",
       "      <td>7.833333</td>\n",
       "    </tr>\n",
       "  </tbody>\n",
       "</table>\n",
       "</div>"
      ],
      "text/plain": [
       "   patient_id  age  num_visits  avg_time_between_visits   avg_a1c\n",
       "0          72   56          10                99.777778  7.833333\n",
       "1          72   56          10                99.777778  7.833333\n",
       "2          72   56          10                99.777778  7.833333\n",
       "3          72   56          10                99.777778  7.833333\n",
       "4          72   56          10                99.777778  7.833333"
      ]
     },
     "execution_count": 7,
     "metadata": {},
     "output_type": "execute_result"
    }
   ],
   "source": [
    "new_df.head()"
   ]
  },
  {
   "cell_type": "code",
   "execution_count": 8,
   "metadata": {},
   "outputs": [],
   "source": [
    "new_df.drop_duplicates(inplace=True)"
   ]
  },
  {
   "cell_type": "code",
   "execution_count": 9,
   "metadata": {},
   "outputs": [],
   "source": [
    "new_df.reset_index(inplace=True,drop=True)"
   ]
  },
  {
   "cell_type": "code",
   "execution_count": 10,
   "metadata": {},
   "outputs": [
    {
     "data": {
      "text/html": [
       "<div>\n",
       "<style scoped>\n",
       "    .dataframe tbody tr th:only-of-type {\n",
       "        vertical-align: middle;\n",
       "    }\n",
       "\n",
       "    .dataframe tbody tr th {\n",
       "        vertical-align: top;\n",
       "    }\n",
       "\n",
       "    .dataframe thead th {\n",
       "        text-align: right;\n",
       "    }\n",
       "</style>\n",
       "<table border=\"1\" class=\"dataframe\">\n",
       "  <thead>\n",
       "    <tr style=\"text-align: right;\">\n",
       "      <th></th>\n",
       "      <th>patient_id</th>\n",
       "      <th>age</th>\n",
       "      <th>num_visits</th>\n",
       "      <th>avg_time_between_visits</th>\n",
       "      <th>avg_a1c</th>\n",
       "    </tr>\n",
       "  </thead>\n",
       "  <tbody>\n",
       "    <tr>\n",
       "      <th>0</th>\n",
       "      <td>72</td>\n",
       "      <td>56</td>\n",
       "      <td>10</td>\n",
       "      <td>99.777778</td>\n",
       "      <td>7.833333</td>\n",
       "    </tr>\n",
       "    <tr>\n",
       "      <th>1</th>\n",
       "      <td>254</td>\n",
       "      <td>64</td>\n",
       "      <td>54</td>\n",
       "      <td>20.584906</td>\n",
       "      <td>8.842857</td>\n",
       "    </tr>\n",
       "    <tr>\n",
       "      <th>2</th>\n",
       "      <td>255</td>\n",
       "      <td>64</td>\n",
       "      <td>8</td>\n",
       "      <td>146.857143</td>\n",
       "      <td>10.233333</td>\n",
       "    </tr>\n",
       "    <tr>\n",
       "      <th>3</th>\n",
       "      <td>304</td>\n",
       "      <td>70</td>\n",
       "      <td>5</td>\n",
       "      <td>54.500000</td>\n",
       "      <td>7.000000</td>\n",
       "    </tr>\n",
       "    <tr>\n",
       "      <th>4</th>\n",
       "      <td>384</td>\n",
       "      <td>66</td>\n",
       "      <td>9</td>\n",
       "      <td>105.250000</td>\n",
       "      <td>8.500000</td>\n",
       "    </tr>\n",
       "  </tbody>\n",
       "</table>\n",
       "</div>"
      ],
      "text/plain": [
       "   patient_id  age  num_visits  avg_time_between_visits    avg_a1c\n",
       "0          72   56          10                99.777778   7.833333\n",
       "1         254   64          54                20.584906   8.842857\n",
       "2         255   64           8               146.857143  10.233333\n",
       "3         304   70           5                54.500000   7.000000\n",
       "4         384   66           9               105.250000   8.500000"
      ]
     },
     "execution_count": 10,
     "metadata": {},
     "output_type": "execute_result"
    }
   ],
   "source": [
    "new_df.head()"
   ]
  },
  {
   "cell_type": "markdown",
   "metadata": {},
   "source": [
    "Add column to indicate whether the patient's average a1c is classified as our positive class (1,controlled) or negative class (0,uncontrolled)"
   ]
  },
  {
   "cell_type": "code",
   "execution_count": 11,
   "metadata": {},
   "outputs": [
    {
     "name": "stderr",
     "output_type": "stream",
     "text": [
      "/opt/anaconda3/lib/python3.7/site-packages/ipykernel_launcher.py:5: SettingWithCopyWarning: \n",
      "A value is trying to be set on a copy of a slice from a DataFrame\n",
      "\n",
      "See the caveats in the documentation: http://pandas.pydata.org/pandas-docs/stable/user_guide/indexing.html#returning-a-view-versus-a-copy\n",
      "  \"\"\"\n",
      "/opt/anaconda3/lib/python3.7/site-packages/ipykernel_launcher.py:6: SettingWithCopyWarning: \n",
      "A value is trying to be set on a copy of a slice from a DataFrame\n",
      "\n",
      "See the caveats in the documentation: http://pandas.pydata.org/pandas-docs/stable/user_guide/indexing.html#returning-a-view-versus-a-copy\n",
      "  \n"
     ]
    }
   ],
   "source": [
    "new_df[\"avg_control_level\"]=\"\"\n",
    "\n",
    "for i in range(new_df.shape[0]):\n",
    "    if new_df[\"avg_a1c\"][i] <=8:\n",
    "        new_df[\"avg_control_level\"][i]= 1\n",
    "    else: new_df[\"avg_control_level\"][i]=0\n",
    "        #1 is controlled"
   ]
  },
  {
   "cell_type": "code",
   "execution_count": 12,
   "metadata": {},
   "outputs": [
    {
     "data": {
      "text/html": [
       "<div>\n",
       "<style scoped>\n",
       "    .dataframe tbody tr th:only-of-type {\n",
       "        vertical-align: middle;\n",
       "    }\n",
       "\n",
       "    .dataframe tbody tr th {\n",
       "        vertical-align: top;\n",
       "    }\n",
       "\n",
       "    .dataframe thead th {\n",
       "        text-align: right;\n",
       "    }\n",
       "</style>\n",
       "<table border=\"1\" class=\"dataframe\">\n",
       "  <thead>\n",
       "    <tr style=\"text-align: right;\">\n",
       "      <th></th>\n",
       "      <th>Unnamed: 0</th>\n",
       "      <th>patient_id</th>\n",
       "      <th>age</th>\n",
       "      <th>obs_date</th>\n",
       "      <th>a1c</th>\n",
       "      <th>a1c_level</th>\n",
       "      <th>num_obs</th>\n",
       "    </tr>\n",
       "  </thead>\n",
       "  <tbody>\n",
       "    <tr>\n",
       "      <th>0</th>\n",
       "      <td>0</td>\n",
       "      <td>72</td>\n",
       "      <td>56</td>\n",
       "      <td>2017-07-21</td>\n",
       "      <td>8.1</td>\n",
       "      <td>0</td>\n",
       "      <td>6</td>\n",
       "    </tr>\n",
       "    <tr>\n",
       "      <th>1</th>\n",
       "      <td>1</td>\n",
       "      <td>72</td>\n",
       "      <td>56</td>\n",
       "      <td>2019-01-19</td>\n",
       "      <td>7.6</td>\n",
       "      <td>1</td>\n",
       "      <td>6</td>\n",
       "    </tr>\n",
       "    <tr>\n",
       "      <th>2</th>\n",
       "      <td>2</td>\n",
       "      <td>72</td>\n",
       "      <td>56</td>\n",
       "      <td>2018-02-08</td>\n",
       "      <td>8.3</td>\n",
       "      <td>0</td>\n",
       "      <td>6</td>\n",
       "    </tr>\n",
       "    <tr>\n",
       "      <th>3</th>\n",
       "      <td>3</td>\n",
       "      <td>72</td>\n",
       "      <td>56</td>\n",
       "      <td>2017-10-20</td>\n",
       "      <td>7.7</td>\n",
       "      <td>1</td>\n",
       "      <td>6</td>\n",
       "    </tr>\n",
       "    <tr>\n",
       "      <th>4</th>\n",
       "      <td>4</td>\n",
       "      <td>72</td>\n",
       "      <td>56</td>\n",
       "      <td>2019-06-08</td>\n",
       "      <td>7.1</td>\n",
       "      <td>1</td>\n",
       "      <td>6</td>\n",
       "    </tr>\n",
       "  </tbody>\n",
       "</table>\n",
       "</div>"
      ],
      "text/plain": [
       "   Unnamed: 0  patient_id  age    obs_date  a1c  a1c_level  num_obs\n",
       "0           0          72   56  2017-07-21  8.1          0        6\n",
       "1           1          72   56  2019-01-19  7.6          1        6\n",
       "2           2          72   56  2018-02-08  8.3          0        6\n",
       "3           3          72   56  2017-10-20  7.7          1        6\n",
       "4           4          72   56  2019-06-08  7.1          1        6"
      ]
     },
     "execution_count": 12,
     "metadata": {},
     "output_type": "execute_result"
    }
   ],
   "source": [
    "data_a1c_df.head()"
   ]
  },
  {
   "cell_type": "code",
   "execution_count": 13,
   "metadata": {},
   "outputs": [
    {
     "name": "stderr",
     "output_type": "stream",
     "text": [
      "/opt/anaconda3/lib/python3.7/site-packages/ipykernel_launcher.py:9: SettingWithCopyWarning: \n",
      "A value is trying to be set on a copy of a slice from a DataFrame\n",
      "\n",
      "See the caveats in the documentation: http://pandas.pydata.org/pandas-docs/stable/user_guide/indexing.html#returning-a-view-versus-a-copy\n",
      "  if __name__ == '__main__':\n"
     ]
    }
   ],
   "source": [
    "# add it number of observations per patient \n",
    "\n",
    "new_df[\"num_obs\"]=\"\"\n",
    "\n",
    "for x in range(data_a1c_df.shape[0]):\n",
    "    for i in range(new_df.shape[0]):\n",
    "            if data_a1c_df[\"patient_id\"][x]== new_df[\"patient_id\"][i]:\n",
    "                #index of where patient id is that value \n",
    "                new_df[\"num_obs\"][i]= data_a1c_df[\"num_obs\"][x]"
   ]
  },
  {
   "cell_type": "code",
   "execution_count": 14,
   "metadata": {},
   "outputs": [
    {
     "data": {
      "text/plain": [
       "patient_id                  0\n",
       "age                         0\n",
       "num_visits                  0\n",
       "avg_time_between_visits    31\n",
       "avg_a1c                     0\n",
       "avg_control_level           0\n",
       "num_obs                     0\n",
       "dtype: int64"
      ]
     },
     "execution_count": 14,
     "metadata": {},
     "output_type": "execute_result"
    }
   ],
   "source": [
    "new_df.isnull().sum()"
   ]
  },
  {
   "cell_type": "code",
   "execution_count": 15,
   "metadata": {},
   "outputs": [
    {
     "data": {
      "text/html": [
       "<div>\n",
       "<style scoped>\n",
       "    .dataframe tbody tr th:only-of-type {\n",
       "        vertical-align: middle;\n",
       "    }\n",
       "\n",
       "    .dataframe tbody tr th {\n",
       "        vertical-align: top;\n",
       "    }\n",
       "\n",
       "    .dataframe thead th {\n",
       "        text-align: right;\n",
       "    }\n",
       "</style>\n",
       "<table border=\"1\" class=\"dataframe\">\n",
       "  <thead>\n",
       "    <tr style=\"text-align: right;\">\n",
       "      <th></th>\n",
       "      <th>patient_id</th>\n",
       "      <th>age</th>\n",
       "      <th>num_visits</th>\n",
       "      <th>avg_time_between_visits</th>\n",
       "      <th>avg_a1c</th>\n",
       "      <th>avg_control_level</th>\n",
       "      <th>num_obs</th>\n",
       "    </tr>\n",
       "  </thead>\n",
       "  <tbody>\n",
       "    <tr>\n",
       "      <th>0</th>\n",
       "      <td>72</td>\n",
       "      <td>56</td>\n",
       "      <td>10</td>\n",
       "      <td>99.777778</td>\n",
       "      <td>7.833333</td>\n",
       "      <td>1</td>\n",
       "      <td>6</td>\n",
       "    </tr>\n",
       "    <tr>\n",
       "      <th>1</th>\n",
       "      <td>254</td>\n",
       "      <td>64</td>\n",
       "      <td>54</td>\n",
       "      <td>20.584906</td>\n",
       "      <td>8.842857</td>\n",
       "      <td>0</td>\n",
       "      <td>7</td>\n",
       "    </tr>\n",
       "    <tr>\n",
       "      <th>2</th>\n",
       "      <td>255</td>\n",
       "      <td>64</td>\n",
       "      <td>8</td>\n",
       "      <td>146.857143</td>\n",
       "      <td>10.233333</td>\n",
       "      <td>0</td>\n",
       "      <td>2</td>\n",
       "    </tr>\n",
       "    <tr>\n",
       "      <th>3</th>\n",
       "      <td>304</td>\n",
       "      <td>70</td>\n",
       "      <td>5</td>\n",
       "      <td>54.500000</td>\n",
       "      <td>7.000000</td>\n",
       "      <td>1</td>\n",
       "      <td>1</td>\n",
       "    </tr>\n",
       "    <tr>\n",
       "      <th>4</th>\n",
       "      <td>384</td>\n",
       "      <td>66</td>\n",
       "      <td>9</td>\n",
       "      <td>105.250000</td>\n",
       "      <td>8.500000</td>\n",
       "      <td>0</td>\n",
       "      <td>4</td>\n",
       "    </tr>\n",
       "  </tbody>\n",
       "</table>\n",
       "</div>"
      ],
      "text/plain": [
       "   patient_id  age  num_visits  avg_time_between_visits    avg_a1c  \\\n",
       "0          72   56          10                99.777778   7.833333   \n",
       "1         254   64          54                20.584906   8.842857   \n",
       "2         255   64           8               146.857143  10.233333   \n",
       "3         304   70           5                54.500000   7.000000   \n",
       "4         384   66           9               105.250000   8.500000   \n",
       "\n",
       "  avg_control_level num_obs  \n",
       "0                 1       6  \n",
       "1                 0       7  \n",
       "2                 0       2  \n",
       "3                 1       1  \n",
       "4                 0       4  "
      ]
     },
     "execution_count": 15,
     "metadata": {},
     "output_type": "execute_result"
    }
   ],
   "source": [
    "new_df.head()"
   ]
  },
  {
   "cell_type": "code",
   "execution_count": 16,
   "metadata": {},
   "outputs": [],
   "source": [
    "new_df.to_csv(\"../data/new_df_for_modelling.csv\")"
   ]
  }
 ],
 "metadata": {
  "kernelspec": {
   "display_name": "Python 3",
   "language": "python",
   "name": "python3"
  },
  "language_info": {
   "codemirror_mode": {
    "name": "ipython",
    "version": 3
   },
   "file_extension": ".py",
   "mimetype": "text/x-python",
   "name": "python",
   "nbconvert_exporter": "python",
   "pygments_lexer": "ipython3",
   "version": "3.7.4"
  },
  "toc": {
   "base_numbering": 1,
   "nav_menu": {},
   "number_sections": true,
   "sideBar": true,
   "skip_h1_title": false,
   "title_cell": "Table of Contents",
   "title_sidebar": "Contents",
   "toc_cell": false,
   "toc_position": {},
   "toc_section_display": true,
   "toc_window_display": false
  }
 },
 "nbformat": 4,
 "nbformat_minor": 2
}
