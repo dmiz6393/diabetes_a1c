{
 "cells": [
  {
   "cell_type": "markdown",
   "metadata": {},
   "source": [
    "# Original Data Cleaning"
   ]
  },
  {
   "cell_type": "code",
   "execution_count": 1,
   "metadata": {},
   "outputs": [],
   "source": [
    "import pandas as pd\n",
    "import numpy as np\n",
    "pd.set_option('display.max_columns', 100)\n",
    "pd.set_option('display.max_rows', 500)"
   ]
  },
  {
   "cell_type": "code",
   "execution_count": 2,
   "metadata": {},
   "outputs": [],
   "source": [
    "df=pd.read_csv(\"../data/A1c_Data_Requesta1c.csv\")"
   ]
  },
  {
   "cell_type": "markdown",
   "metadata": {},
   "source": [
    "## What does our data look like? "
   ]
  },
  {
   "cell_type": "markdown",
   "metadata": {},
   "source": [
    "When cleaning the data, we need to consider the following:\n",
    "1. Data normalization: a process where data in a database is organized in a way that the user can utilize it to conduct analysis and answer questions. This process entails eliminating redundancy and logically group data together. This data was not normalized, there are two dataframes grouped together in one in a way that doesn't make sense (one responsible for a1c and when bloodwork was done, and the other holding information only on office visits). There are also many duplicates in the data. \n",
    "2. We have 273,485 rows of data and 8 columns. This data represents 1,099 patients. \n",
    "3. Each patient has multiple types of insurances listed, and we are unsure which is the most updated one or what many of them mean. For this reason, I don't believe we may have to eliminate this column for further analysis. "
   ]
  },
  {
   "cell_type": "code",
   "execution_count": 3,
   "metadata": {},
   "outputs": [
    {
     "data": {
      "text/html": [
       "<div>\n",
       "<style scoped>\n",
       "    .dataframe tbody tr th:only-of-type {\n",
       "        vertical-align: middle;\n",
       "    }\n",
       "\n",
       "    .dataframe tbody tr th {\n",
       "        vertical-align: top;\n",
       "    }\n",
       "\n",
       "    .dataframe thead th {\n",
       "        text-align: right;\n",
       "    }\n",
       "</style>\n",
       "<table border=\"1\" class=\"dataframe\">\n",
       "  <thead>\n",
       "    <tr style=\"text-align: right;\">\n",
       "      <th></th>\n",
       "      <th>PatientId</th>\n",
       "      <th>Age</th>\n",
       "      <th>Birthdate</th>\n",
       "      <th>VisitDate</th>\n",
       "      <th>SUMMARY</th>\n",
       "      <th>OBSDATE</th>\n",
       "      <th>Date of A1c</th>\n",
       "      <th>Insurance</th>\n",
       "    </tr>\n",
       "  </thead>\n",
       "  <tbody>\n",
       "    <tr>\n",
       "      <th>0</th>\n",
       "      <td>72</td>\n",
       "      <td>56</td>\n",
       "      <td>11/26/1963 5:00:00</td>\n",
       "      <td>7/19/2017 14:30:00</td>\n",
       "      <td>followup diabetes, med refill</td>\n",
       "      <td>7/21/2017 17:21:00</td>\n",
       "      <td>8.1</td>\n",
       "      <td>Dental Sliding Fee</td>\n",
       "    </tr>\n",
       "    <tr>\n",
       "      <th>1</th>\n",
       "      <td>72</td>\n",
       "      <td>56</td>\n",
       "      <td>11/26/1963 5:00:00</td>\n",
       "      <td>7/19/2017 14:30:00</td>\n",
       "      <td>followup diabetes, med refill</td>\n",
       "      <td>7/21/2017 17:21:00</td>\n",
       "      <td>8.1</td>\n",
       "      <td>Sliding Fee Scale</td>\n",
       "    </tr>\n",
       "    <tr>\n",
       "      <th>2</th>\n",
       "      <td>72</td>\n",
       "      <td>56</td>\n",
       "      <td>11/26/1963 5:00:00</td>\n",
       "      <td>7/19/2017 14:30:00</td>\n",
       "      <td>followup diabetes, med refill</td>\n",
       "      <td>1/19/2019 0:01:15</td>\n",
       "      <td>7.6</td>\n",
       "      <td>Dental Sliding Fee</td>\n",
       "    </tr>\n",
       "    <tr>\n",
       "      <th>3</th>\n",
       "      <td>72</td>\n",
       "      <td>56</td>\n",
       "      <td>11/26/1963 5:00:00</td>\n",
       "      <td>7/19/2017 14:30:00</td>\n",
       "      <td>followup diabetes, med refill</td>\n",
       "      <td>1/19/2019 0:01:15</td>\n",
       "      <td>7.6</td>\n",
       "      <td>Sliding Fee Scale</td>\n",
       "    </tr>\n",
       "    <tr>\n",
       "      <th>4</th>\n",
       "      <td>72</td>\n",
       "      <td>56</td>\n",
       "      <td>11/26/1963 5:00:00</td>\n",
       "      <td>7/19/2017 14:30:00</td>\n",
       "      <td>followup diabetes, med refill</td>\n",
       "      <td>2/8/2018 19:50:00</td>\n",
       "      <td>8.3</td>\n",
       "      <td>Dental Sliding Fee</td>\n",
       "    </tr>\n",
       "  </tbody>\n",
       "</table>\n",
       "</div>"
      ],
      "text/plain": [
       "   PatientId  Age           Birthdate           VisitDate  \\\n",
       "0         72   56  11/26/1963 5:00:00  7/19/2017 14:30:00   \n",
       "1         72   56  11/26/1963 5:00:00  7/19/2017 14:30:00   \n",
       "2         72   56  11/26/1963 5:00:00  7/19/2017 14:30:00   \n",
       "3         72   56  11/26/1963 5:00:00  7/19/2017 14:30:00   \n",
       "4         72   56  11/26/1963 5:00:00  7/19/2017 14:30:00   \n",
       "\n",
       "                         SUMMARY             OBSDATE  Date of A1c  \\\n",
       "0  followup diabetes, med refill  7/21/2017 17:21:00          8.1   \n",
       "1  followup diabetes, med refill  7/21/2017 17:21:00          8.1   \n",
       "2  followup diabetes, med refill   1/19/2019 0:01:15          7.6   \n",
       "3  followup diabetes, med refill   1/19/2019 0:01:15          7.6   \n",
       "4  followup diabetes, med refill   2/8/2018 19:50:00          8.3   \n",
       "\n",
       "            Insurance  \n",
       "0  Dental Sliding Fee  \n",
       "1   Sliding Fee Scale  \n",
       "2  Dental Sliding Fee  \n",
       "3   Sliding Fee Scale  \n",
       "4  Dental Sliding Fee  "
      ]
     },
     "execution_count": 3,
     "metadata": {},
     "output_type": "execute_result"
    }
   ],
   "source": [
    "df.head()"
   ]
  },
  {
   "cell_type": "markdown",
   "metadata": {},
   "source": [
    "How many patients do we have in this dataset? "
   ]
  },
  {
   "cell_type": "code",
   "execution_count": 4,
   "metadata": {},
   "outputs": [
    {
     "data": {
      "text/plain": [
       "115425    6072\n",
       "971       5880\n",
       "386       5247\n",
       "111755    4422\n",
       "201709    3410\n",
       "          ... \n",
       "234272       2\n",
       "241167       2\n",
       "233853       1\n",
       "234976       1\n",
       "233208       1\n",
       "Name: PatientId, Length: 1099, dtype: int64"
      ]
     },
     "execution_count": 4,
     "metadata": {},
     "output_type": "execute_result"
    }
   ],
   "source": [
    "#Check number of patients by ID\n",
    "df[\"PatientId\"].value_counts()"
   ]
  },
  {
   "cell_type": "code",
   "execution_count": 5,
   "metadata": {},
   "outputs": [],
   "source": [
    "#change column names so we can more easily work with columns\n",
    "df.rename(columns={\"PatientId\": \"patient_id\",\"Age\": \"age\", \"VisitDate\": \"visit_date\", \"SUMMARY\":\"summary\",\"OBSDATE\":\"obs_date\",\"Date of A1c\":\"a1c\",\"Insurance\":\"insurance\"},inplace=True)"
   ]
  },
  {
   "cell_type": "code",
   "execution_count": 6,
   "metadata": {},
   "outputs": [
    {
     "data": {
      "text/plain": [
       "(273485, 8)"
      ]
     },
     "execution_count": 6,
     "metadata": {},
     "output_type": "execute_result"
    }
   ],
   "source": [
    "#check rows and columns \n",
    "df.shape"
   ]
  },
  {
   "cell_type": "code",
   "execution_count": 7,
   "metadata": {},
   "outputs": [
    {
     "data": {
      "text/plain": [
       "Sliding Fee Scale                                63025\n",
       "Medicaid - Husky D                               28659\n",
       "Medicaid - Husky C                               24414\n",
       "DO NOT USE - Medicaid State of CT                23468\n",
       "National Government Services                     22005\n",
       "Dental Sliding Fee                               17748\n",
       "Medicaid - Husky A                               15570\n",
       "Connecticare Exchange                             6944\n",
       "DO NOT USE-Community Health Network - Husky A     6363\n",
       "Medicaid State of CT                              6318\n",
       "DO NOT USE - CHN Saga- Medicaid LIA               6174\n",
       "Anthem Medicare                                   5834\n",
       "United Healthcare Medicare                        4656\n",
       "Connecticare                                      4546\n",
       "CT Behavioral Health Partnership                  4216\n",
       "Anthem BCBS                                       4010\n",
       "Aetna Commercial                                  2675\n",
       "Aetna Medicare -HMO                               2657\n",
       "CT Dental Health Partnership                      2471\n",
       "United Healthcare Commercial                      2398\n",
       "Wellcare Health Plans, Inc.                       2208\n",
       "HealthyCT                                         2130\n",
       "DO NOT USE-AmeriChoice by United Healthcare       2119\n",
       "Cigna                                             2031\n",
       "Self Pay                                          1552\n",
       "DO NOT USE-Aetna Better Health                    1484\n",
       "Ryan White                                        1058\n",
       "Oxford Health                                      992\n",
       "Connecticare Medicare                              982\n",
       "Medco - Local 1199 National Benefit                583\n",
       "DO NOT USE Blue Care Family Plan                   552\n",
       "Medicaid - Husky B                                 523\n",
       "Anthem Exchange                                    487\n",
       "AARP                                               420\n",
       "CHAMPVA                                            392\n",
       "DO NOT USE-Aetna Better Health - Charter Oak       305\n",
       "UMR- United Healthcare                             233\n",
       "Traveler's Property and Casualty Co.               208\n",
       "Oxford Medicare                                    204\n",
       "DO NOT USE - Medicaid - Charter Oak                191\n",
       "Cigna -Starbridge                                  168\n",
       "DO NOT USE-CHN - Charter Oak                       115\n",
       "Railroad Medicare                                  102\n",
       "Cigna Dental                                        60\n",
       "DO NOT USE - Healthnet Commercial                   39\n",
       "DO NOT USE - Healthnet Medicare                     39\n",
       "Medicare Supplemental Plan                          26\n",
       "BlueCare Plus HMO                                   24\n",
       "MCS Advantage                                       24\n",
       "DO NOT USE-CHN Husky B                              23\n",
       "The Hartford Insurance                              22\n",
       "HPHC                                                21\n",
       "Humana                                              14\n",
       "United Healthcare                                    2\n",
       "HealthEquity, Inc.                                   1\n",
       "Name: insurance, dtype: int64"
      ]
     },
     "execution_count": 7,
     "metadata": {},
     "output_type": "execute_result"
    }
   ],
   "source": [
    "df[\"insurance\"].value_counts()"
   ]
  },
  {
   "cell_type": "code",
   "execution_count": 8,
   "metadata": {},
   "outputs": [
    {
     "data": {
      "text/plain": [
       "patient_id      0\n",
       "age             0\n",
       "Birthdate       0\n",
       "visit_date      0\n",
       "summary       218\n",
       "obs_date        0\n",
       "a1c            32\n",
       "insurance       0\n",
       "dtype: int64"
      ]
     },
     "execution_count": 8,
     "metadata": {},
     "output_type": "execute_result"
    }
   ],
   "source": [
    "#check how many null rows we have \n",
    "df.isnull().sum()"
   ]
  },
  {
   "cell_type": "code",
   "execution_count": 9,
   "metadata": {},
   "outputs": [],
   "source": [
    "#drop rows where a1c is missing since it is only 32 out of 273485\n",
    "df.dropna(subset=[\"a1c\"],inplace=True)"
   ]
  },
  {
   "cell_type": "code",
   "execution_count": 10,
   "metadata": {},
   "outputs": [],
   "source": [
    "df.reset_index(inplace=True)"
   ]
  },
  {
   "cell_type": "code",
   "execution_count": 11,
   "metadata": {},
   "outputs": [
    {
     "data": {
      "text/plain": [
       "index           0\n",
       "patient_id      0\n",
       "age             0\n",
       "Birthdate       0\n",
       "visit_date      0\n",
       "summary       218\n",
       "obs_date        0\n",
       "a1c             0\n",
       "insurance       0\n",
       "dtype: int64"
      ]
     },
     "execution_count": 11,
     "metadata": {},
     "output_type": "execute_result"
    }
   ],
   "source": [
    "#check to make sure the null values were deleted\n",
    "df.isnull().sum()"
   ]
  },
  {
   "cell_type": "code",
   "execution_count": 12,
   "metadata": {},
   "outputs": [],
   "source": [
    "#drop insurance and birthday \n",
    "df_no_ins= df.drop(columns=[\"insurance\",\"Birthdate\"])"
   ]
  },
  {
   "cell_type": "code",
   "execution_count": 13,
   "metadata": {},
   "outputs": [
    {
     "data": {
      "text/plain": [
       "index           int64\n",
       "patient_id      int64\n",
       "age             int64\n",
       "visit_date     object\n",
       "summary        object\n",
       "obs_date       object\n",
       "a1c           float64\n",
       "dtype: object"
      ]
     },
     "execution_count": 13,
     "metadata": {},
     "output_type": "execute_result"
    }
   ],
   "source": [
    "#check datatypes: are the columns meant to be numerical, numerical? Are the dates in the dataframe datetime datatypes? \n",
    "df_no_ins.dtypes"
   ]
  },
  {
   "cell_type": "code",
   "execution_count": 15,
   "metadata": {},
   "outputs": [],
   "source": [
    "#for objects that need to be converted into floats, none in the original dtype\n",
    "# convert = lambda x: float(x)"
   ]
  },
  {
   "cell_type": "code",
   "execution_count": 16,
   "metadata": {},
   "outputs": [],
   "source": [
    "#convert visit date and obs date to datetime, and take out time \n",
    "df_no_ins['visit_date'] = pd.to_datetime(df_no_ins['visit_date'])"
   ]
  },
  {
   "cell_type": "code",
   "execution_count": 17,
   "metadata": {},
   "outputs": [],
   "source": [
    "df_no_ins['visit_date']= df_no_ins['visit_date'].dt.date"
   ]
  },
  {
   "cell_type": "code",
   "execution_count": 18,
   "metadata": {},
   "outputs": [],
   "source": [
    "df_no_ins['visit_date'] = pd.to_datetime(df_no_ins['visit_date'])"
   ]
  },
  {
   "cell_type": "code",
   "execution_count": 19,
   "metadata": {},
   "outputs": [],
   "source": [
    "df_no_ins['obs_date'] = pd.to_datetime(df_no_ins['obs_date'])"
   ]
  },
  {
   "cell_type": "code",
   "execution_count": 20,
   "metadata": {},
   "outputs": [],
   "source": [
    "df_no_ins['obs_date'] = df_no_ins['obs_date'].dt.date"
   ]
  },
  {
   "cell_type": "code",
   "execution_count": 21,
   "metadata": {},
   "outputs": [],
   "source": [
    "df_no_ins['obs_date'] = pd.to_datetime(df_no_ins['obs_date'])"
   ]
  },
  {
   "cell_type": "code",
   "execution_count": 22,
   "metadata": {},
   "outputs": [
    {
     "data": {
      "text/plain": [
       "index                  int64\n",
       "patient_id             int64\n",
       "age                    int64\n",
       "visit_date    datetime64[ns]\n",
       "summary               object\n",
       "obs_date      datetime64[ns]\n",
       "a1c                  float64\n",
       "dtype: object"
      ]
     },
     "execution_count": 22,
     "metadata": {},
     "output_type": "execute_result"
    }
   ],
   "source": [
    "df_no_ins.dtypes"
   ]
  },
  {
   "cell_type": "code",
   "execution_count": 23,
   "metadata": {},
   "outputs": [
    {
     "data": {
      "text/plain": [
       "204598     0.089\n",
       "204659     0.089\n",
       "204658     0.089\n",
       "204651     0.089\n",
       "204650     0.089\n",
       "           ...  \n",
       "268928    19.700\n",
       "268929    19.700\n",
       "268930    19.700\n",
       "268931    19.700\n",
       "268927    19.700\n",
       "Name: a1c, Length: 273453, dtype: float64"
      ]
     },
     "execution_count": 23,
     "metadata": {},
     "output_type": "execute_result"
    }
   ],
   "source": [
    "df_no_ins[\"a1c\"].sort_values(ascending=True)"
   ]
  },
  {
   "cell_type": "code",
   "execution_count": 24,
   "metadata": {},
   "outputs": [
    {
     "data": {
      "text/plain": [
       "0.08900000000000001"
      ]
     },
     "execution_count": 24,
     "metadata": {},
     "output_type": "execute_result"
    }
   ],
   "source": [
    "#.089 is too low\n",
    "df_no_ins[\"a1c\"].min()"
   ]
  },
  {
   "cell_type": "code",
   "execution_count": 25,
   "metadata": {},
   "outputs": [
    {
     "data": {
      "text/plain": [
       "19.7"
      ]
     },
     "execution_count": 25,
     "metadata": {},
     "output_type": "execute_result"
    }
   ],
   "source": [
    "df_no_ins[\"a1c\"].max()"
   ]
  },
  {
   "cell_type": "code",
   "execution_count": 26,
   "metadata": {},
   "outputs": [
    {
     "data": {
      "text/plain": [
       "count    273453.000000\n",
       "mean          8.902426\n",
       "std           1.760240\n",
       "min           0.089000\n",
       "25%           7.500000\n",
       "50%           8.400000\n",
       "75%           9.900000\n",
       "max          19.700000\n",
       "Name: a1c, dtype: float64"
      ]
     },
     "execution_count": 26,
     "metadata": {},
     "output_type": "execute_result"
    }
   ],
   "source": [
    "#mean a1c value is 8.9\n",
    "df_no_ins[\"a1c\"].describe()"
   ]
  },
  {
   "cell_type": "code",
   "execution_count": 27,
   "metadata": {},
   "outputs": [],
   "source": [
    "df_no_ins[\"a1c\"].where(df_no_ins[\"a1c\"]!= 0.08900000000000001, 8.9,inplace=True)"
   ]
  },
  {
   "cell_type": "code",
   "execution_count": 30,
   "metadata": {},
   "outputs": [],
   "source": [
    "df_no_ins.drop(columns=[\"index\"],inplace=True)"
   ]
  },
  {
   "cell_type": "code",
   "execution_count": 32,
   "metadata": {},
   "outputs": [
    {
     "data": {
      "text/plain": [
       "1.7"
      ]
     },
     "execution_count": 32,
     "metadata": {},
     "output_type": "execute_result"
    }
   ],
   "source": [
    "df_no_ins[\"a1c\"].min()"
   ]
  },
  {
   "cell_type": "code",
   "execution_count": 33,
   "metadata": {},
   "outputs": [],
   "source": [
    "mask= df_no_ins.loc[df_no_ins[\"a1c\"]== 1.7]"
   ]
  },
  {
   "cell_type": "code",
   "execution_count": 36,
   "metadata": {},
   "outputs": [
    {
     "data": {
      "text/html": [
       "<div>\n",
       "<style scoped>\n",
       "    .dataframe tbody tr th:only-of-type {\n",
       "        vertical-align: middle;\n",
       "    }\n",
       "\n",
       "    .dataframe tbody tr th {\n",
       "        vertical-align: top;\n",
       "    }\n",
       "\n",
       "    .dataframe thead th {\n",
       "        text-align: right;\n",
       "    }\n",
       "</style>\n",
       "<table border=\"1\" class=\"dataframe\">\n",
       "  <thead>\n",
       "    <tr style=\"text-align: right;\">\n",
       "      <th></th>\n",
       "      <th>patient_id</th>\n",
       "      <th>age</th>\n",
       "      <th>visit_date</th>\n",
       "      <th>summary</th>\n",
       "      <th>obs_date</th>\n",
       "      <th>a1c</th>\n",
       "    </tr>\n",
       "  </thead>\n",
       "  <tbody>\n",
       "    <tr>\n",
       "      <th>59052</th>\n",
       "      <td>115425</td>\n",
       "      <td>59</td>\n",
       "      <td>2018-07-06</td>\n",
       "      <td>INR f/u 2.5 on 8.5 mg qd</td>\n",
       "      <td>2019-09-13</td>\n",
       "      <td>1.7</td>\n",
       "    </tr>\n",
       "    <tr>\n",
       "      <th>59053</th>\n",
       "      <td>115425</td>\n",
       "      <td>59</td>\n",
       "      <td>2018-07-06</td>\n",
       "      <td>INR f/u 2.5 on 8.5 mg qd</td>\n",
       "      <td>2019-09-13</td>\n",
       "      <td>1.7</td>\n",
       "    </tr>\n",
       "    <tr>\n",
       "      <th>59054</th>\n",
       "      <td>115425</td>\n",
       "      <td>59</td>\n",
       "      <td>2018-07-06</td>\n",
       "      <td>INR f/u 2.5 on 8.5 mg qd</td>\n",
       "      <td>2019-09-13</td>\n",
       "      <td>1.7</td>\n",
       "    </tr>\n",
       "    <tr>\n",
       "      <th>59055</th>\n",
       "      <td>115425</td>\n",
       "      <td>59</td>\n",
       "      <td>2018-07-06</td>\n",
       "      <td>INR f/u 2.5 on 8.5 mg qd</td>\n",
       "      <td>2019-09-13</td>\n",
       "      <td>1.7</td>\n",
       "    </tr>\n",
       "    <tr>\n",
       "      <th>59056</th>\n",
       "      <td>115425</td>\n",
       "      <td>59</td>\n",
       "      <td>2018-07-06</td>\n",
       "      <td>INR f/u 2.5 on 8.5 mg qd</td>\n",
       "      <td>2019-09-13</td>\n",
       "      <td>1.7</td>\n",
       "    </tr>\n",
       "    <tr>\n",
       "      <th>...</th>\n",
       "      <td>...</td>\n",
       "      <td>...</td>\n",
       "      <td>...</td>\n",
       "      <td>...</td>\n",
       "      <td>...</td>\n",
       "      <td>...</td>\n",
       "    </tr>\n",
       "    <tr>\n",
       "      <th>65077</th>\n",
       "      <td>115425</td>\n",
       "      <td>59</td>\n",
       "      <td>2018-02-21</td>\n",
       "      <td>hypotension, f/u DM type 2, COPD, OSA, HLD</td>\n",
       "      <td>2019-09-13</td>\n",
       "      <td>1.7</td>\n",
       "    </tr>\n",
       "    <tr>\n",
       "      <th>65078</th>\n",
       "      <td>115425</td>\n",
       "      <td>59</td>\n",
       "      <td>2018-02-21</td>\n",
       "      <td>hypotension, f/u DM type 2, COPD, OSA, HLD</td>\n",
       "      <td>2019-09-13</td>\n",
       "      <td>1.7</td>\n",
       "    </tr>\n",
       "    <tr>\n",
       "      <th>65079</th>\n",
       "      <td>115425</td>\n",
       "      <td>59</td>\n",
       "      <td>2018-02-21</td>\n",
       "      <td>hypotension, f/u DM type 2, COPD, OSA, HLD</td>\n",
       "      <td>2019-09-13</td>\n",
       "      <td>1.7</td>\n",
       "    </tr>\n",
       "    <tr>\n",
       "      <th>65080</th>\n",
       "      <td>115425</td>\n",
       "      <td>59</td>\n",
       "      <td>2018-02-21</td>\n",
       "      <td>hypotension, f/u DM type 2, COPD, OSA, HLD</td>\n",
       "      <td>2019-09-13</td>\n",
       "      <td>1.7</td>\n",
       "    </tr>\n",
       "    <tr>\n",
       "      <th>65081</th>\n",
       "      <td>115425</td>\n",
       "      <td>59</td>\n",
       "      <td>2018-02-21</td>\n",
       "      <td>hypotension, f/u DM type 2, COPD, OSA, HLD</td>\n",
       "      <td>2019-09-13</td>\n",
       "      <td>1.7</td>\n",
       "    </tr>\n",
       "  </tbody>\n",
       "</table>\n",
       "<p>552 rows × 6 columns</p>\n",
       "</div>"
      ],
      "text/plain": [
       "       patient_id  age visit_date                                     summary  \\\n",
       "59052      115425   59 2018-07-06                    INR f/u 2.5 on 8.5 mg qd   \n",
       "59053      115425   59 2018-07-06                    INR f/u 2.5 on 8.5 mg qd   \n",
       "59054      115425   59 2018-07-06                    INR f/u 2.5 on 8.5 mg qd   \n",
       "59055      115425   59 2018-07-06                    INR f/u 2.5 on 8.5 mg qd   \n",
       "59056      115425   59 2018-07-06                    INR f/u 2.5 on 8.5 mg qd   \n",
       "...           ...  ...        ...                                         ...   \n",
       "65077      115425   59 2018-02-21  hypotension, f/u DM type 2, COPD, OSA, HLD   \n",
       "65078      115425   59 2018-02-21  hypotension, f/u DM type 2, COPD, OSA, HLD   \n",
       "65079      115425   59 2018-02-21  hypotension, f/u DM type 2, COPD, OSA, HLD   \n",
       "65080      115425   59 2018-02-21  hypotension, f/u DM type 2, COPD, OSA, HLD   \n",
       "65081      115425   59 2018-02-21  hypotension, f/u DM type 2, COPD, OSA, HLD   \n",
       "\n",
       "        obs_date  a1c  \n",
       "59052 2019-09-13  1.7  \n",
       "59053 2019-09-13  1.7  \n",
       "59054 2019-09-13  1.7  \n",
       "59055 2019-09-13  1.7  \n",
       "59056 2019-09-13  1.7  \n",
       "...          ...  ...  \n",
       "65077 2019-09-13  1.7  \n",
       "65078 2019-09-13  1.7  \n",
       "65079 2019-09-13  1.7  \n",
       "65080 2019-09-13  1.7  \n",
       "65081 2019-09-13  1.7  \n",
       "\n",
       "[552 rows x 6 columns]"
      ]
     },
     "execution_count": 36,
     "metadata": {},
     "output_type": "execute_result"
    }
   ],
   "source": [
    "mask"
   ]
  },
  {
   "cell_type": "code",
   "execution_count": 35,
   "metadata": {},
   "outputs": [
    {
     "data": {
      "text/plain": [
       "Int64Index([59052, 59053, 59054, 59055, 59056, 59057, 59070, 59071, 59072,\n",
       "            59073,\n",
       "            ...\n",
       "            65066, 65067, 65068, 65069, 65076, 65077, 65078, 65079, 65080,\n",
       "            65081],\n",
       "           dtype='int64', length=552)"
      ]
     },
     "execution_count": 35,
     "metadata": {},
     "output_type": "execute_result"
    }
   ],
   "source": [
    "mask.index"
   ]
  },
  {
   "cell_type": "code",
   "execution_count": 38,
   "metadata": {},
   "outputs": [
    {
     "data": {
      "text/plain": [
       "(273453, 6)"
      ]
     },
     "execution_count": 38,
     "metadata": {},
     "output_type": "execute_result"
    }
   ],
   "source": [
    "df_no_ins.shape"
   ]
  },
  {
   "cell_type": "code",
   "execution_count": 56,
   "metadata": {},
   "outputs": [],
   "source": [
    "df_no_ins.drop(mask.index,axis=0,inplace=True)"
   ]
  },
  {
   "cell_type": "code",
   "execution_count": 57,
   "metadata": {},
   "outputs": [
    {
     "data": {
      "text/plain": [
       "7.0"
      ]
     },
     "execution_count": 57,
     "metadata": {},
     "output_type": "execute_result"
    }
   ],
   "source": [
    "df_no_ins[\"a1c\"].min()"
   ]
  },
  {
   "cell_type": "code",
   "execution_count": 58,
   "metadata": {},
   "outputs": [
    {
     "data": {
      "text/plain": [
       "(272901, 6)"
      ]
     },
     "execution_count": 58,
     "metadata": {},
     "output_type": "execute_result"
    }
   ],
   "source": [
    "df_no_ins.shape"
   ]
  },
  {
   "cell_type": "code",
   "execution_count": 64,
   "metadata": {},
   "outputs": [],
   "source": [
    "#time to drop duplicates!\n",
    "df_no_ins.drop_duplicates(inplace=True)"
   ]
  },
  {
   "cell_type": "code",
   "execution_count": 65,
   "metadata": {},
   "outputs": [],
   "source": [
    "df_no_ins.reset_index(drop=True,inplace=True)"
   ]
  },
  {
   "cell_type": "code",
   "execution_count": 66,
   "metadata": {},
   "outputs": [
    {
     "data": {
      "text/plain": [
       "(61943, 6)"
      ]
     },
     "execution_count": 66,
     "metadata": {},
     "output_type": "execute_result"
    }
   ],
   "source": [
    "df_no_ins.shape\n",
    "# dropped 210,958 "
   ]
  },
  {
   "cell_type": "markdown",
   "metadata": {},
   "source": [
    "Add column to dummy a1c level so we can use both classification and regression models "
   ]
  },
  {
   "cell_type": "code",
   "execution_count": 67,
   "metadata": {},
   "outputs": [
    {
     "name": "stderr",
     "output_type": "stream",
     "text": [
      "/opt/anaconda3/lib/python3.7/site-packages/ipykernel_launcher.py:6: SettingWithCopyWarning: \n",
      "A value is trying to be set on a copy of a slice from a DataFrame\n",
      "\n",
      "See the caveats in the documentation: http://pandas.pydata.org/pandas-docs/stable/user_guide/indexing.html#returning-a-view-versus-a-copy\n",
      "  \n",
      "/opt/anaconda3/lib/python3.7/site-packages/ipykernel_launcher.py:5: SettingWithCopyWarning: \n",
      "A value is trying to be set on a copy of a slice from a DataFrame\n",
      "\n",
      "See the caveats in the documentation: http://pandas.pydata.org/pandas-docs/stable/user_guide/indexing.html#returning-a-view-versus-a-copy\n",
      "  \"\"\"\n"
     ]
    }
   ],
   "source": [
    "df_no_ins[\"a1c_level\"]=\"\"\n",
    "\n",
    "for i in range(df_no_ins.shape[0]):\n",
    "    if df_no_ins[\"a1c\"][i] <=8:\n",
    "        df_no_ins[\"a1c_level\"][i]= 1\n",
    "    else: df_no_ins[\"a1c_level\"][i]=0\n",
    "        #1 is controlled\n",
    "        #0 is uncontrolled "
   ]
  },
  {
   "cell_type": "code",
   "execution_count": 68,
   "metadata": {},
   "outputs": [
    {
     "data": {
      "text/html": [
       "<div>\n",
       "<style scoped>\n",
       "    .dataframe tbody tr th:only-of-type {\n",
       "        vertical-align: middle;\n",
       "    }\n",
       "\n",
       "    .dataframe tbody tr th {\n",
       "        vertical-align: top;\n",
       "    }\n",
       "\n",
       "    .dataframe thead th {\n",
       "        text-align: right;\n",
       "    }\n",
       "</style>\n",
       "<table border=\"1\" class=\"dataframe\">\n",
       "  <thead>\n",
       "    <tr style=\"text-align: right;\">\n",
       "      <th></th>\n",
       "      <th>patient_id</th>\n",
       "      <th>age</th>\n",
       "      <th>visit_date</th>\n",
       "      <th>summary</th>\n",
       "      <th>obs_date</th>\n",
       "      <th>a1c</th>\n",
       "      <th>a1c_level</th>\n",
       "    </tr>\n",
       "  </thead>\n",
       "  <tbody>\n",
       "    <tr>\n",
       "      <th>0</th>\n",
       "      <td>72</td>\n",
       "      <td>56</td>\n",
       "      <td>2017-07-19</td>\n",
       "      <td>followup diabetes, med refill</td>\n",
       "      <td>2017-07-21</td>\n",
       "      <td>8.1</td>\n",
       "      <td>0</td>\n",
       "    </tr>\n",
       "    <tr>\n",
       "      <th>1</th>\n",
       "      <td>72</td>\n",
       "      <td>56</td>\n",
       "      <td>2017-07-19</td>\n",
       "      <td>followup diabetes, med refill</td>\n",
       "      <td>2019-01-19</td>\n",
       "      <td>7.6</td>\n",
       "      <td>1</td>\n",
       "    </tr>\n",
       "    <tr>\n",
       "      <th>2</th>\n",
       "      <td>72</td>\n",
       "      <td>56</td>\n",
       "      <td>2017-07-19</td>\n",
       "      <td>followup diabetes, med refill</td>\n",
       "      <td>2018-02-08</td>\n",
       "      <td>8.3</td>\n",
       "      <td>0</td>\n",
       "    </tr>\n",
       "    <tr>\n",
       "      <th>3</th>\n",
       "      <td>72</td>\n",
       "      <td>56</td>\n",
       "      <td>2017-07-19</td>\n",
       "      <td>followup diabetes, med refill</td>\n",
       "      <td>2017-10-20</td>\n",
       "      <td>7.7</td>\n",
       "      <td>1</td>\n",
       "    </tr>\n",
       "    <tr>\n",
       "      <th>4</th>\n",
       "      <td>72</td>\n",
       "      <td>56</td>\n",
       "      <td>2017-07-19</td>\n",
       "      <td>followup diabetes, med refill</td>\n",
       "      <td>2019-06-08</td>\n",
       "      <td>7.1</td>\n",
       "      <td>1</td>\n",
       "    </tr>\n",
       "  </tbody>\n",
       "</table>\n",
       "</div>"
      ],
      "text/plain": [
       "   patient_id  age visit_date                        summary   obs_date  a1c  \\\n",
       "0          72   56 2017-07-19  followup diabetes, med refill 2017-07-21  8.1   \n",
       "1          72   56 2017-07-19  followup diabetes, med refill 2019-01-19  7.6   \n",
       "2          72   56 2017-07-19  followup diabetes, med refill 2018-02-08  8.3   \n",
       "3          72   56 2017-07-19  followup diabetes, med refill 2017-10-20  7.7   \n",
       "4          72   56 2017-07-19  followup diabetes, med refill 2019-06-08  7.1   \n",
       "\n",
       "  a1c_level  \n",
       "0         0  \n",
       "1         1  \n",
       "2         0  \n",
       "3         1  \n",
       "4         1  "
      ]
     },
     "execution_count": 68,
     "metadata": {},
     "output_type": "execute_result"
    }
   ],
   "source": [
    "df_no_ins.head()"
   ]
  },
  {
   "cell_type": "code",
   "execution_count": 70,
   "metadata": {},
   "outputs": [],
   "source": [
    "df_no_ins.to_csv(\"../data/cleaned_data.csv\")"
   ]
  },
  {
   "cell_type": "code",
   "execution_count": null,
   "metadata": {},
   "outputs": [],
   "source": []
  }
 ],
 "metadata": {
  "kernelspec": {
   "display_name": "Python 3",
   "language": "python",
   "name": "python3"
  },
  "language_info": {
   "codemirror_mode": {
    "name": "ipython",
    "version": 3
   },
   "file_extension": ".py",
   "mimetype": "text/x-python",
   "name": "python",
   "nbconvert_exporter": "python",
   "pygments_lexer": "ipython3",
   "version": "3.7.4"
  },
  "toc": {
   "base_numbering": 1,
   "nav_menu": {},
   "number_sections": true,
   "sideBar": true,
   "skip_h1_title": false,
   "title_cell": "Table of Contents",
   "title_sidebar": "Contents",
   "toc_cell": false,
   "toc_position": {},
   "toc_section_display": true,
   "toc_window_display": false
  }
 },
 "nbformat": 4,
 "nbformat_minor": 2
}
